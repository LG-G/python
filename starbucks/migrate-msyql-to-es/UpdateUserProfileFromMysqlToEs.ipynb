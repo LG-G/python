{
 "cells": [
  {
   "cell_type": "code",
   "execution_count": 51,
   "metadata": {},
   "outputs": [],
   "source": [
    "#导入dateframe计算工具\n",
    "import pandas as pd\n",
    "\n",
    "# #导入绘图工具\n",
    "# import matplotlib.pyplot as plt\n",
    "# #一般作为机器学习绘图用, 但是也能绘出更cool的图\n",
    "# import seaborn as sns\n",
    "\n",
    "#mysql 数据源工具\n",
    "import sqlalchemy as db\n",
    "\n",
    "#系统及命令行\n",
    "import sys\n",
    "\n",
    "import json\n",
    "import requests"
   ]
  },
  {
   "cell_type": "code",
   "execution_count": 41,
   "metadata": {},
   "outputs": [],
   "source": [
    "arguments=sys.argv\n",
    "if len(arguments) <= 4:\n",
    "    print(\"usage: {} db_host db_user db_password esHost. For example, {} 10.10.0.215:3306 root 82f12dbf497b 10.10.0.223:9200\".format(arguments[0], arguments[0]))\n",
    "    sys.exit(-1)\n",
    "\n",
    "profile_db = \"10.10.0.215:3306\"\n",
    "username = \"root\"\n",
    "password = \"82f12dbf497b\"\n",
    "esHost=\"10.10.0.223:9200\"\n",
    "esIndex=\"profile_service\"\n",
    "esType=\"extra_profile\"\n",
    "\n",
    "profile_db = sys.argv[1]\n",
    "username = sys.argv[2]\n",
    "password = sys.argv[3]\n",
    "esHost = sys.argv[4]\n",
    "\n",
    "print(\"database: {}, username: {}, password: {}, elasticsearch: {}\".format(profile_db, username, password, esHost))\n",
    "\n",
    "mysql_conn_str = 'mysql+pymysql://{}:{}@{}/profile_service?charset=utf8mb4'.format(username, password, profile_db)\n",
    "\n",
    "user_profile_query = '''select login_id,device_type,device_id,device_address,email,image,\n",
    "                    nick_name,social_id,sex,phone_no,school_name,major,sign_ature,weichat_image,\n",
    "                    weichat_nick,openid from user_profile where login_id is not null'''"
   ]
  },
  {
   "cell_type": "code",
   "execution_count": 42,
   "metadata": {},
   "outputs": [],
   "source": [
    "try:\n",
    "    engine = db.create_engine(mysql_conn_str)\n",
    "    connection = engine.connect()\n",
    "    df = pd.read_sql_query(user_profile_query, connection)\n",
    "except:\n",
    "    print(\"读取数据错误\")\n",
    "    raise \"读取数据错误\"\n",
    "connection.close()"
   ]
  },
  {
   "cell_type": "code",
   "execution_count": 47,
   "metadata": {},
   "outputs": [],
   "source": [
    "def getJsonDataFromRow(row):\n",
    "    loginId = row[0]\n",
    "    data = {\"loginId\": loginId}\n",
    "    if row[1] != None:\n",
    "        data[\"deviceType\"] = row[1]\n",
    "    if row[2] != None:\n",
    "        data[\"deviceId\"] = row[2]\n",
    "    if row[3] != None:\n",
    "        data[\"deviceAddress\"] = row[3]\n",
    "    if row[4] != None:\n",
    "        data[\"email\"] = row[4]\n",
    "    if row[5] != None:\n",
    "        data[\"image\"] = row[5]\n",
    "    if row[6] != None:\n",
    "        data[\"nickName\"] = row[6]\n",
    "    if row[7] != None:\n",
    "        data[\"socialId\"] = row[7]\n",
    "    if row[8] != None:\n",
    "        data[\"sex\"] = row[8]\n",
    "    if row[9] != None:\n",
    "        data[\"phoneNo\"] = row[9]\n",
    "    else:\n",
    "        data[\"phoneNo\"] = loginId\n",
    "    if row[10] != None:\n",
    "        data[\"schoolName\"] = row[10]\n",
    "    if row[11] != None:\n",
    "        data[\"major\"] = row[11]\n",
    "    if row[12] != None:\n",
    "        data[\"signAture\"] = row[12]\n",
    "    if row[13] != None:\n",
    "        data[\"weichatImage\"] = row[13]\n",
    "    if row[14] != None:\n",
    "        data[\"weichatNick\"] = row[14]\n",
    "    if row[15] != None:\n",
    "        data[\"openid\"] = row[15]\n",
    "    updateData = {\"doc_as_upsert\":True, \"doc\": data}\n",
    "    return json.dumps(updateData)"
   ]
  },
  {
   "cell_type": "code",
   "execution_count": 54,
   "metadata": {},
   "outputs": [
    {
     "name": "stdout",
     "output_type": "stream",
     "text": [
      "{\"doc_as_upsert\": true, \"doc\": {\"loginId\": \"t1\", \"deviceType\": \"test6\", \"deviceId\": \"test6\", \"deviceAddress\": \"test6\", \"email\": \"test6\", \"image\": \"test6\", \"nickName\": \"test6\", \"socialId\": \"test6\", \"phoneNo\": \"t1\"}}\n",
      "{\"doc_as_upsert\": true, \"doc\": {\"loginId\": \"t2\", \"deviceType\": \"test6\", \"deviceId\": \"test6\", \"deviceAddress\": \"test6\", \"email\": \"test6\", \"image\": \"test6\", \"nickName\": \"test6\", \"socialId\": \"test6\", \"phoneNo\": \"t2\"}}\n",
      "{\"doc_as_upsert\": true, \"doc\": {\"loginId\": \"t3\", \"deviceType\": \"test77\", \"deviceId\": \"test77\", \"deviceAddress\": \"test77\", \"email\": \"test77\", \"image\": \"test77\", \"nickName\": \"test77\", \"socialId\": \"test77\", \"phoneNo\": \"t3\"}}\n",
      "{\"doc_as_upsert\": true, \"doc\": {\"loginId\": \"test77\", \"deviceType\": \"test77\", \"deviceId\": \"test77\", \"deviceAddress\": \"test77\", \"email\": \"test77\", \"image\": \"the8979\", \"nickName\": \"test77\", \"socialId\": \"test77\", \"sex\": \"test77\", \"phoneNo\": \"test77\", \"schoolName\": \"test123\", \"major\": \"test77\", \"signAture\": \"test77\"}}\n",
      "{\"doc_as_upsert\": true, \"doc\": {\"loginId\": \"13678654673\", \"image\": \"the8979\", \"nickName\": \"the8979\", \"phoneNo\": \"13678654673\"}}\n"
     ]
    }
   ],
   "source": [
    "for row in df.values:\n",
    "    loginId = row[0]\n",
    "    postUrl = \"http://{}/{}/{}/{}/_update\".format(esHost, esIndex, esType, loginId)\n",
    "    rowData = getJsonDataFromRow(row)\n",
    "    requests.post(url = postUrl, data = rowData.encode('utf-8'), headers = {\"Content-Type\":\"application/json\"})"
   ]
  }
 ],
 "metadata": {
  "kernelspec": {
   "display_name": "Python 3",
   "language": "python",
   "name": "python3"
  },
  "language_info": {
   "codemirror_mode": {
    "name": "ipython",
    "version": 3
   },
   "file_extension": ".py",
   "mimetype": "text/x-python",
   "name": "python",
   "nbconvert_exporter": "python",
   "pygments_lexer": "ipython3",
   "version": "3.7.1"
  }
 },
 "nbformat": 4,
 "nbformat_minor": 2
}
