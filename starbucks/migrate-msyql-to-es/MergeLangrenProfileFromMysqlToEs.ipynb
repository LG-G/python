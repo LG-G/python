{
 "cells": [
  {
   "cell_type": "code",
   "execution_count": 1,
   "metadata": {},
   "outputs": [],
   "source": [
    "#导入dateframe计算工具\n",
    "import pandas as pd\n",
    "\n",
    "# #导入绘图工具\n",
    "# import matplotlib.pyplot as plt\n",
    "# #一般作为机器学习绘图用, 但是也能绘出更cool的图\n",
    "# import seaborn as sns\n",
    "\n",
    "#mysql 数据源工具\n",
    "import sqlalchemy as db\n",
    "\n",
    "#系统及命令行\n",
    "import sys\n",
    "\n",
    "import json\n",
    "import requests"
   ]
  },
  {
   "cell_type": "code",
   "execution_count": 17,
   "metadata": {},
   "outputs": [
    {
     "name": "stdout",
     "output_type": "stream",
     "text": [
      "usage: /ws/service/venv/py3/lib/python3.7/site-packages/ipykernel_launcher.py db_host db_user db_password esHost. For example, /ws/service/venv/py3/lib/python3.7/site-packages/ipykernel_launcher.py 10.10.0.215:3306 root 82f12dbf497b 10.10.0.223:9200\n",
      "database: 10.10.0.215:3306, username: root, password: 82f12dbf497b, elasticsearch: 10.10.0.223:9200\n"
     ]
    }
   ],
   "source": [
    "arguments=sys.argv\n",
    "if len(arguments) <= 4:\n",
    "    print(\"usage: {} db_host db_user db_password esHost. For example, {} 10.10.0.215:3306 root 82f12dbf497b 10.10.0.223:9200\".format(arguments[0], arguments[0]))\n",
    "    sys.exit(-1)\n",
    "\n",
    "profile_db = \"10.10.0.215:3306\"\n",
    "username = \"root\"\n",
    "password = \"82f12dbf497b\"\n",
    "esHost=\"10.10.0.223:9200\"\n",
    "esIndex=\"profile_service\"\n",
    "esType=\"extra_profile\"\n",
    "\n",
    "profile_db = sys.argv[1]\n",
    "username = sys.argv[2]\n",
    "password = sys.argv[3]\n",
    "esHost = sys.argv[4]\n",
    "\n",
    "print(\"database: {}, username: {}, password: {}, elasticsearch: {}\".format(profile_db, username, password, esHost))\n",
    "\n",
    "mysql_conn_str = 'mysql+pymysql://{}:{}@{}/profile_service?charset=utf8mb4'.format(username, password, profile_db)\n",
    "\n",
    "user_profile_query = '''select login_id,langren_image,entrance_year from extra_profile where login_id is not null'''"
   ]
  },
  {
   "cell_type": "code",
   "execution_count": 18,
   "metadata": {},
   "outputs": [],
   "source": [
    "try:\n",
    "    engine = db.create_engine(mysql_conn_str)\n",
    "    connection = engine.connect()\n",
    "    df = pd.read_sql_query(user_profile_query, connection)\n",
    "except:\n",
    "    print(\"读取数据错误\")\n",
    "    raise \"读取数据错误\"\n",
    "connection.close()"
   ]
  },
  {
   "cell_type": "code",
   "execution_count": 19,
   "metadata": {},
   "outputs": [],
   "source": [
    "def getJsonDataFromRow(row):\n",
    "    loginId = row[0]\n",
    "    data = {\"loginId\": loginId}\n",
    "    if row[1] != None:\n",
    "        data[\"langrenImage\"] = row[1]\n",
    "    if row[2] != None:\n",
    "        data[\"entranceYear\"] = row[2]\n",
    "    updateData = {\"doc_as_upsert\":True, \"doc\": data}\n",
    "    return json.dumps(updateData)"
   ]
  },
  {
   "cell_type": "code",
   "execution_count": 20,
   "metadata": {},
   "outputs": [
    {
     "name": "stdout",
     "output_type": "stream",
     "text": [
      "{\"doc_as_upsert\": true, \"doc\": {\"loginId\": \"18321593357\", \"langrenImage\": \"http://resource.zan-qian.com/test/langren_img/1543023232837.jpg\", \"entranceYear\": \"2018\"}}\n",
      "{\"doc_as_upsert\": true, \"doc\": {\"loginId\": \"18260045855\", \"langrenImage\": \"http://resource.zan-qian.com/test/langren_img/1542279082976.jpg\", \"entranceYear\": \"2002\"}}\n",
      "{\"doc_as_upsert\": true, \"doc\": {\"loginId\": \"18662218897\", \"langrenImage\": \"http://resource.zan-qian.com/test/langren_img/1542355923368.jpg\", \"entranceYear\": \"2017\"}}\n",
      "{\"doc_as_upsert\": true, \"doc\": {\"loginId\": \"t1\", \"langrenImage\": \"http://xxx1\", \"entranceYear\": \"2018\"}}\n",
      "{\"doc_as_upsert\": true, \"doc\": {\"loginId\": \"t2\", \"langrenImage\": \"http://xxx1\", \"entranceYear\": \"2018\"}}\n",
      "{\"doc_as_upsert\": true, \"doc\": {\"loginId\": \"t3\", \"langrenImage\": \"http://xxx1\", \"entranceYear\": \"2018\"}}\n",
      "{\"doc_as_upsert\": true, \"doc\": {\"loginId\": \"t4\", \"langrenImage\": \"http://xxx1\", \"entranceYear\": \"2018\"}}\n",
      "{\"doc_as_upsert\": true, \"doc\": {\"loginId\": \"t5\", \"langrenImage\": \"http://xxx1\", \"entranceYear\": \"2018\"}}\n",
      "{\"doc_as_upsert\": true, \"doc\": {\"loginId\": \"t6\", \"langrenImage\": \"http://xxx1\", \"entranceYear\": \"2018\"}}\n",
      "{\"doc_as_upsert\": true, \"doc\": {\"loginId\": \"13788921587\", \"langrenImage\": \"http://resource.zan-qian.com/test/langren_img/1542356349863.jpg\", \"entranceYear\": \"2000\"}}\n",
      "{\"doc_as_upsert\": true, \"doc\": {\"loginId\": \"13120998513\", \"langrenImage\": \"http://resource.zan-qian.com/test/langren_img/1542765770920.jpg\", \"entranceYear\": \"2018\"}}\n",
      "{\"doc_as_upsert\": true, \"doc\": {\"loginId\": \"15316706561\", \"langrenImage\": \"http://resource.zan-qian.com/test/langren_img/1542866974065.jpg\", \"entranceYear\": \"2003\"}}\n",
      "{\"doc_as_upsert\": true, \"doc\": {\"loginId\": \"15201954705\", \"langrenImage\": \"http://resource.zan-qian.com/test/langren_img/1543225033794.jpg\", \"entranceYear\": \"2000\"}}\n"
     ]
    }
   ],
   "source": [
    "for row in df.values:\n",
    "    loginId = row[0]\n",
    "    postUrl = \"http://{}/{}/{}/{}/_update\".format(esHost, esIndex, esType, loginId)\n",
    "    rowData = getJsonDataFromRow(row)\n",
    "    requests.post(url = postUrl, data = rowData.encode('utf-8'), headers = {\"Content-Type\":\"application/json\"})"
   ]
  },
  {
   "cell_type": "code",
   "execution_count": 21,
   "metadata": {},
   "outputs": [
    {
     "data": {
      "text/plain": [
       "<Response [200]>"
      ]
     },
     "execution_count": 21,
     "metadata": {},
     "output_type": "execute_result"
    }
   ],
   "source": [
    "# 如果image没有，则将langrenImage将其更新    \n",
    "postUrl = \"http://{}/{}/{}/_update_by_query?conflicts=proceed\".format(esHost, esIndex, esType)\n",
    "data = '''\n",
    "{ \n",
    "  \"query\": {\n",
    "    \"bool\": {\n",
    "      \"must_not\": [\n",
    "        {\n",
    "          \"exists\": {\n",
    "            \"field\": \"image\"\n",
    "          }\n",
    "        }\n",
    "      ],\n",
    "      \"filter\": {\n",
    "        \"exists\": {\n",
    "          \"field\": \"langrenImage\"\n",
    "        }\n",
    "      }\n",
    "    }\n",
    "  },\n",
    "  \"script\": {\n",
    "    \"source\": \"ctx._source['image'] = ctx._source['langrenImage']\",\n",
    "    \"lang\": \"painless\"\n",
    "  }\n",
    "}\n",
    "'''\n",
    "requests.post(url = postUrl, data = data.encode('utf-8'), headers = {\"Content-Type\":\"application/json\"})\n",
    "    "
   ]
  },
  {
   "cell_type": "code",
   "execution_count": null,
   "metadata": {},
   "outputs": [],
   "source": []
  }
 ],
 "metadata": {
  "kernelspec": {
   "display_name": "Python 3",
   "language": "python",
   "name": "python3"
  },
  "language_info": {
   "codemirror_mode": {
    "name": "ipython",
    "version": 3
   },
   "file_extension": ".py",
   "mimetype": "text/x-python",
   "name": "python",
   "nbconvert_exporter": "python",
   "pygments_lexer": "ipython3",
   "version": "3.7.1"
  }
 },
 "nbformat": 4,
 "nbformat_minor": 2
}
