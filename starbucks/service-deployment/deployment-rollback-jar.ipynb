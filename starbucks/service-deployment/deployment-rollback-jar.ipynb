{
 "cells": [
  {
   "cell_type": "code",
   "execution_count": 3,
   "metadata": {},
   "outputs": [],
   "source": [
    "import sys\n",
    "import urllib.request\n",
    "import urllib3\n",
    "import logging\n",
    "import os"
   ]
  },
  {
   "cell_type": "code",
   "execution_count": 34,
   "metadata": {},
   "outputs": [],
   "source": [
    "## run in new-world-gate-010\n",
    "## cp backup file to jenkins last successfull build\n",
    "\n",
    "arguments=sys.argv\n",
    "if len(arguments) <= 2:\n",
    "    print(\"usage: {} env service_name. For example, {} test asset-service\".format(arguments[0], arguments[0]))\n",
    "    sys.exit(-1)\n",
    "\n",
    "ENV=arguments[1]\n",
    "service=arguments[2]\n",
    "\n",
    "#ENV=\"prod\"\n",
    "#ENV=\"test\"\n",
    "#service=\"account-service\"\n",
    "\n",
    "if ENV == \"prod\": \n",
    "    ## prod env\n",
    "    EUREKA_HOST=\"10.10.0.201:8300\"\n",
    "    MARATHON_HOST=\"10.10.0.208:3333\"\n",
    "else:\n",
    "    ## test env\n",
    "    EUREKA_HOST=\"10.10.0.215:8300\"\n",
    "    MARATHON_HOST=\"10.10.0.206:8080\"\n",
    "\n",
    "BACKUP_DIRECTORY=\"/ws/data/deployment/backup\"\n",
    "JENKINS_JOB_DIRECTORY=\"/ws/data/jenkins/jobs\"\n",
    "logging.basicConfig(format='%(asctime)s %(message)s', level=logging.INFO)\n"
   ]
  },
  {
   "cell_type": "code",
   "execution_count": 39,
   "metadata": {},
   "outputs": [],
   "source": [
    "def deploy(service):\n",
    "    logging.info(\"Start to deploy service: \" + service)\n",
    "    serviceBuild = \"new-world-services\" ## test build job\n",
    "    if ENV == \"test\":\n",
    "        if service == \"uaa-service\":\n",
    "            service = \"new-world-cloud-uaa\"\n",
    "            serviceBuild = \"new-world-cloud-build\"\n",
    "    elif ENV == \"prod\":\n",
    "        serviceBuild = \"new-world-services-prod-build\" ## prod build job\n",
    "        if service == \"uaa-service\":\n",
    "            service = \"new-world-cloud-uaa\"\n",
    "            serviceBuild = \"new-world-cloud-prod-build\"\n",
    "    latestBackupFile = os.popen(\"ls -tral {}/{}* | tail -1\".format(BACKUP_DIRECTORY, service)).read().rstrip()\n",
    "    if len(latestBackupFile) > 0:\n",
    "        array = latestBackupFile.split(\" \")\n",
    "        latestBackupFile = array[len(array) - 1]\n",
    "        a = latestBackupFile.split(\"/\")\n",
    "        fileName = a[len(a) - 1].split(\".jar.\")[0] + \".jar\"\n",
    "        destinationFile = \"{}/{}/lastSuccessful/archive/{}/build/libs/{}\".format(JENKINS_JOB_DIRECTORY, serviceBuild, service, fileName)\n",
    "        logging.info(\"cp backup file: {} to jenkins job latest successfull file: {}\".format(latestBackupFile, destinationFile))\n",
    "        os.popen(\"cp {} {}\".format(latestBackupFile, destinationFile)).read()\n",
    "    logging.info(\"====End====\")"
   ]
  },
  {
   "cell_type": "code",
   "execution_count": 40,
   "metadata": {},
   "outputs": [
    {
     "name": "stderr",
     "output_type": "stream",
     "text": [
      "2018-10-09 11:45:57,355 Start to deploy service: account-service\n",
      "2018-10-09 11:45:57,363 cp backup file: /ws/data/deployment/backup/account-service-1.0-SNAPSHOT.jar.2018-10-09-10-41-24 to jenkins job latest successfull file: /ws/data/jenkins/jobs/new-world-services/lastSuccessful/archive/account-service/build/libs/account-service-1.0-SNAPSHOT.jar\n"
     ]
    },
    {
     "ename": "SystemExit",
     "evalue": "-1",
     "output_type": "error",
     "traceback": [
      "An exception has occurred, use %tb to see the full traceback.\n",
      "\u001b[0;31mSystemExit\u001b[0m\u001b[0;31m:\u001b[0m -1\n"
     ]
    },
    {
     "name": "stderr",
     "output_type": "stream",
     "text": [
      "/ws/service/py3/lib/python3.5/site-packages/IPython/core/interactiveshell.py:2971: UserWarning: To exit: use 'exit', 'quit', or Ctrl-D.\n",
      "  warn(\"To exit: use 'exit', 'quit', or Ctrl-D.\", stacklevel=1)\n"
     ]
    }
   ],
   "source": [
    "deploy(service)\n"
   ]
  },
  {
   "cell_type": "code",
   "execution_count": null,
   "metadata": {},
   "outputs": [],
   "source": []
  }
 ],
 "metadata": {
  "kernelspec": {
   "display_name": "Python 3",
   "language": "python",
   "name": "python3"
  },
  "language_info": {
   "codemirror_mode": {
    "name": "ipython",
    "version": 3
   },
   "file_extension": ".py",
   "mimetype": "text/x-python",
   "name": "python",
   "nbconvert_exporter": "python",
   "pygments_lexer": "ipython3",
   "version": "3.5.2"
  }
 },
 "nbformat": 4,
 "nbformat_minor": 2
}
