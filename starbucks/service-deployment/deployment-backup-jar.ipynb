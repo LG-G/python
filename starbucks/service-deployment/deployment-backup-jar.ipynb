{
 "cells": [
  {
   "cell_type": "code",
   "execution_count": 137,
   "metadata": {},
   "outputs": [],
   "source": [
    "import sys\n",
    "import urllib.request\n",
    "import urllib3\n",
    "import xml.etree.ElementTree as ET\n",
    "from datetime import datetime\n",
    "import time\n",
    "import json\n",
    "import logging\n",
    "import os"
   ]
  },
  {
   "cell_type": "code",
   "execution_count": 117,
   "metadata": {},
   "outputs": [],
   "source": [
    "arguments=sys.argv\n",
    "if len(arguments) <= 2:\n",
    "    print(\"usage: {} env service_name. For example, {} test asset-service\".format(arguments[0], arguments[0]))\n",
    "    sys.exit(-1)\n",
    "\n",
    "ENV=arguments[1]\n",
    "service=arguments[2]\n",
    "\n",
    "#ENV=\"prod\"\n",
    "#ENV=\"test\"\n",
    "#service=\"uaa-service\"\n",
    "\n",
    "if ENV == \"prod\": \n",
    "    ## prod env\n",
    "    EUREKA_HOST=\"10.10.0.201:8300\"\n",
    "    MARATHON_HOST=\"10.10.0.208:3333\"\n",
    "else:\n",
    "    ## test env\n",
    "    EUREKA_HOST=\"10.10.0.215:8300\"\n",
    "    MARATHON_HOST=\"10.10.0.206:8080\"\n",
    "\n",
    "ACCESS_TOKEN=\"4f55964d-d361-44fe-94d8-2f2eaedce16e\"\n",
    "TIMEOUT=10\n",
    "BACKUP_DIRECTORY=\"/ws/data/deployment/backup\"\n",
    "logging.basicConfig(format='%(asctime)s %(message)s', level=logging.INFO)\n"
   ]
  },
  {
   "cell_type": "code",
   "execution_count": 130,
   "metadata": {},
   "outputs": [],
   "source": [
    "def queryInstances(service):\n",
    "    serviceType = \"service\"\n",
    "    if service.startswith(\"uaa\"):\n",
    "        serviceType = \"cloud\"\n",
    "    marathon_current_instance_url = \"http://{}/v2/apps/{}/{}/{}?embed=app.taskStats&embed=app.readiness\".format(MARATHON_HOST, ENV, serviceType, service)\n",
    "    print(marathon_current_instance_url)\n",
    "    response = urllib.request.urlopen(marathon_current_instance_url, timeout=TIMEOUT).read()\n",
    "    responseJson = json.loads(response.decode('utf8'))\n",
    "    hostData = {}\n",
    "    for task in responseJson[\"app\"][\"tasks\"]: \n",
    "        if len(task[\"ports\"]) > 0:\n",
    "            hostData[task[\"id\"]] = task[\"ipAddresses\"][0][\"ipAddress\"] + \":\" + str(task[\"ports\"][0])\n",
    "        else:\n",
    "            env = responseJson[\"app\"][\"env\"]\n",
    "            if env.get(\"PORT0\") != None:\n",
    "                hostData[task[\"id\"]] = task[\"ipAddresses\"][0][\"ipAddress\"] + \":\" + str(env.get(\"PORT0\"))\n",
    "    return hostData"
   ]
  },
  {
   "cell_type": "code",
   "execution_count": 131,
   "metadata": {},
   "outputs": [],
   "source": [
    "def deploy(service):\n",
    "    logging.info(\"Start to deploy service: \" + service)\n",
    "    marathonService = service\n",
    "    eurekaService = service\n",
    "    if ENV == \"test\":\n",
    "        if service == \"uaa-service\":\n",
    "            marathonService = \"uaa-dev-db-prod-redis\"\n",
    "            eurekaService = \"new-world-cloud-uaa\"\n",
    "        elif service == \"profile-service\":\n",
    "            marathonService = \"profile-service-test-db\"\n",
    "        elif service == \"account-service\":\n",
    "            marathonService = \"account-service-test-db\"\n",
    "    elif ENV == \"prod\":\n",
    "        if service == \"uaa-service\":\n",
    "            eurekaService = \"new-world-cloud-uaa\"\n",
    "            marathonService = \"uaa\"\n",
    "    oldHostData = queryInstances(marathonService)\n",
    "    logging.info(\"Current instances: \" + str(oldHostData))\n",
    "    if len(oldHostData) == 0:\n",
    "        logging.warnning(\"Not instance found. Stop the script!!!\")\n",
    "        sys.exit(-1)\n",
    "    \n",
    "    for instanceId in oldHostData.keys():\n",
    "        hostPort = oldHostData[instanceId]\n",
    "        host = hostPort.split(\":\")[0]\n",
    "        port = hostPort.split(\":\")[1]\n",
    "        logging.info(\"Get the jar file of current instance: \" + hostPort)\n",
    "        command = \"ps -ef | grep \" + eurekaService + \" | grep \" + host + \" | grep \" + port + \" | sed 's/nw\\s\\+\\([0-9]\\+\\)\\s\\+.*/\\\\1/g' | xargs -i ls -l /proc/{}/fd | grep '\" + eurekaService + \".*.jar' | sed 's%.*\\s\\+\\(/ws/data/.*.jar\\)%\\\\1%g' | uniq\"\n",
    "        file = os.popen(\"ssh -q -o 'StrictHostKeyChecking no' {} \\\"{}\\\"\".format(host, command)).read().rstrip()\n",
    "        if len(file) > 0:\n",
    "            pathArray = file.split(\"/\")\n",
    "            fileName = pathArray[len(pathArray) - 1]\n",
    "            backupFile = \"{}/{}.{}\".format(BACKUP_DIRECTORY, fileName, datetime.now().strftime(\"%Y-%m-%d-%H-%M-%S\"))\n",
    "            logging.info(\"Scp file {}:{} to {}\".format(host, file, backupFile))\n",
    "            os.popen(\"scp -q -o 'StrictHostKeyChecking no' nw@{}:{} {}\".format(host, file, backupFile)).read()\n",
    "        break\n",
    "    \n",
    "    logging.info(\"====End====\")"
   ]
  },
  {
   "cell_type": "code",
   "execution_count": 132,
   "metadata": {},
   "outputs": [
    {
     "name": "stderr",
     "output_type": "stream",
     "text": [
      "2018-10-09 11:01:11,354 Start to deploy service: uaa-service\n",
      "2018-10-09 11:01:11,362 Current instances: {'prod_cloud_uaa.461e09fd-c08f-11e8-b23d-02426f2f801a': '10.10.0.212:20897', 'prod_cloud_uaa.38a8106c-c08d-11e8-b23d-02426f2f801a': '10.10.0.207:21757', 'prod_cloud_uaa.38a7c24b-c08d-11e8-b23d-02426f2f801a': '10.10.0.213:21994'}\n",
      "2018-10-09 11:01:11,362 Get the jar file of current instance: 10.10.0.212:20897\n"
     ]
    },
    {
     "name": "stdout",
     "output_type": "stream",
     "text": [
      "http://10.10.0.208:3333/v2/apps/prod/cloud/uaa?embed=app.taskStats&embed=app.readiness\n"
     ]
    },
    {
     "name": "stderr",
     "output_type": "stream",
     "text": [
      "2018-10-09 11:01:11,575 Scp file 10.10.0.212:/ws/data/mesos/slave/slaves/04222055-681d-43c6-a8f6-07973a7769a4-S7/frameworks/04222055-681d-43c6-a8f6-07973a7769a4-0000/executors/prod_cloud_uaa.461e09fd-c08f-11e8-b23d-02426f2f801a/runs/dc084e49-7987-41de-a21a-79deb41d2951/new-world-cloud-uaa-1.0-SNAPSHOT.jar to /ws/data/deployment/backup/new-world-cloud-uaa-1.0-SNAPSHOT.jar.2018-10-09-11-01-11\n",
      "2018-10-09 11:01:12,192 ====End====\n"
     ]
    }
   ],
   "source": [
    "deploy(service)"
   ]
  },
  {
   "cell_type": "code",
   "execution_count": null,
   "metadata": {},
   "outputs": [],
   "source": []
  }
 ],
 "metadata": {
  "kernelspec": {
   "display_name": "Python 3",
   "language": "python",
   "name": "python3"
  },
  "language_info": {
   "codemirror_mode": {
    "name": "ipython",
    "version": 3
   },
   "file_extension": ".py",
   "mimetype": "text/x-python",
   "name": "python",
   "nbconvert_exporter": "python",
   "pygments_lexer": "ipython3",
   "version": "3.7.1"
  }
 },
 "nbformat": 4,
 "nbformat_minor": 2
}
