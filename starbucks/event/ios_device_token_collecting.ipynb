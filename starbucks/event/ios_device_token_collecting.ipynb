{
 "cells": [
  {
   "cell_type": "code",
   "execution_count": 3,
   "metadata": {},
   "outputs": [],
   "source": [
    "import os\n",
    "import oss2\n",
    "import gzip\n",
    "from itertools import islice\n",
    "import json\n",
    "import pandas as pd\n",
    "import urllib3\n",
    "import logging\n",
    "import sys\n",
    "from datetime import datetime"
   ]
  },
  {
   "cell_type": "code",
   "execution_count": 138,
   "metadata": {},
   "outputs": [
    {
     "name": "stderr",
     "output_type": "stream",
     "text": [
      "2018-12-17 10:12:06,217 Arguments length: 3. Argurments: ['/ws/service/venv/py3/lib/python3.7/site-packages/ipykernel_launcher.py', '-f', '/Users/bell/Library/Jupyter/runtime/kernel-3f5b1704-dbb3-4fd2-b181-654fcae0b2c8.json']\n"
     ]
    }
   ],
   "source": [
    "logging.basicConfig(format='%(asctime)s %(message)s', level=logging.INFO)\n",
    "\n",
    "arguments=sys.argv\n",
    "logging.info(\"Arguments length: \" + str(len(arguments)) + \". Argurments: \" + str(arguments))\n",
    "if len(arguments) <= 1:\n",
    "    print(\"usage: {} env. For example, {} test 20181220\".format(arguments[0], arguments[0]))\n",
    "    sys.exit(-1)\n",
    "\n",
    "env=arguments[1]\n",
    "if env == \"prod\":\n",
    "    endpoint=\"oss-cn-shanghai-internal.aliyuncs.com\"\n",
    "    postProfileUrl=\"http://gateway.fnvalley.com/profile-service/2.0.0/extra_profile/saveIosDeviceTokenList\"\n",
    "    kafkaOssPathPrefix=\"kafka-bakcup/{}/event-prod\"\n",
    "elif env == \"test\":\n",
    "    endpoint=\"oss-cn-shanghai-internal.aliyuncs.com\"\n",
    "    postProfileUrl=\"http://testgate.fnvalley.com/profile-service/2.0.0/extra_profile/saveIosDeviceTokenList\"\n",
    "    kafkaOssPathPrefix=\"kafka-bakcup-test/{}/event-test\"\n",
    "else:\n",
    "    endpoint=\"oss-cn-shanghai.aliyuncs.com\"\n",
    "    postProfileUrl=\"http://testgate.fnvalley.com/profile-service/2.0.0/extra_profile/saveIosDeviceTokenList\"\n",
    "    kafkaOssPathPrefix=\"kafka-bakcup-test/{}/event-test\"\n",
    "\n",
    "if len(arguments) >= 3:\n",
    "    date=arguments[2]\n",
    "else:\n",
    "    date=datetime.now().strftime(\"%Y%m%d\")\n",
    "    \n",
    "accessKeyID=\"LTAItd3meVs30UzA\"\n",
    "accessKeySecret=\"mt9g18CLp18gqXcaWxLSZX4VqX1mH4\"\n",
    "\n",
    "internalBucket=\"internal-fnvalley\"\n",
    "ACCESS_TOKEN=\"4f55964d-d361-44fe-94d8-2f2eaedce16e\"\n",
    "loginIdDeviceTokenMap = {}\n",
    "\n",
    "logging.info(\"Oss endpoint: \" + endpoint)\n",
    "logging.info(\"Collecting date: \" + date)"
   ]
  },
  {
   "cell_type": "code",
   "execution_count": 139,
   "metadata": {},
   "outputs": [
    {
     "name": "stderr",
     "output_type": "stream",
     "text": [
      "2018-12-17 10:12:45,907 oss2.api [INFO] 140735715738496 : Init oss bucket, endpoint: http://oss-cn-shanghai.aliyuncs.com, isCname: False, connect_timeout: None, app_name: , enabled_crc: True\n",
      "2018-12-17 10:12:45,907 Init oss bucket, endpoint: http://oss-cn-shanghai.aliyuncs.com, isCname: False, connect_timeout: None, app_name: , enabled_crc: True\n"
     ]
    }
   ],
   "source": [
    "auth = oss2.Auth(accessKeyID, accessKeySecret)\n",
    "bucket = oss2.Bucket(auth, 'http://' + endpoint, internalBucket)\n",
    "http = urllib3.PoolManager()"
   ]
  },
  {
   "cell_type": "code",
   "execution_count": 140,
   "metadata": {},
   "outputs": [],
   "source": [
    "def checkAndAddDeviceToken(event):\n",
    "    try:\n",
    "        eventJson = json.loads(event)\n",
    "        if eventJson.get(\"deviceToken\") != None and eventJson.get(\"loginId\") != None:\n",
    "            loginIdDeviceTokenMap[eventJson.get(\"loginId\")] = eventJson.get(\"deviceToken\")\n",
    "    except Exception as e:\n",
    "        logging.info(\"Event: [\" + event + \"], Exeption: \" + str(e))"
   ]
  },
  {
   "cell_type": "code",
   "execution_count": 117,
   "metadata": {},
   "outputs": [
    {
     "name": "stderr",
     "output_type": "stream",
     "text": [
      "2018-12-14 19:01:06,099 oss2.api [INFO] 140735715738496 : Start to List objects, bucket: internal-fnvalley, prefix: kafka-bakcup/20181113/event-prod, delimiter: , marker: , max-keys: 100\n",
      "2018-12-14 19:01:06,099 Start to List objects, bucket: internal-fnvalley, prefix: kafka-bakcup/20181113/event-prod, delimiter: , marker: , max-keys: 100\n",
      "2018-12-14 19:01:06,225 oss2.api [INFO] 140735715738496 : List objects done, req_id: 5C138D728DA7CA8C299E874C, status_code: 200\n",
      "2018-12-14 19:01:06,225 List objects done, req_id: 5C138D728DA7CA8C299E874C, status_code: 200\n",
      "2018-12-14 19:01:06,231 oss2.api [INFO] 140735715738496 : Start to get object, bucket: internal-fnvalley， key: kafka-bakcup/20181113/event-prod.0.gz, range: , headers: {}, params: {}\n",
      "2018-12-14 19:01:06,231 Start to get object, bucket: internal-fnvalley， key: kafka-bakcup/20181113/event-prod.0.gz, range: , headers: {}, params: {}\n",
      "2018-12-14 19:01:06,273 oss2.api [INFO] 140735715738496 : Get object done, req_id: 5C138D728DA7CA8C299E87B1, status_code: 200\n",
      "2018-12-14 19:01:06,273 Get object done, req_id: 5C138D728DA7CA8C299E87B1, status_code: 200\n",
      "2018-12-14 19:01:06,331 Event: [], Exeption: Expecting value: line 1 column 1 (char 0)\n",
      "2018-12-14 19:01:06,332 oss2.api [INFO] 140735715738496 : Start to get object, bucket: internal-fnvalley， key: kafka-bakcup/20181113/event-prod.0.gz, range: , headers: {}, params: {}\n",
      "2018-12-14 19:01:06,332 Start to get object, bucket: internal-fnvalley， key: kafka-bakcup/20181113/event-prod.0.gz, range: , headers: {}, params: {}\n",
      "2018-12-14 19:01:06,356 oss2.api [INFO] 140735715738496 : Get object done, req_id: 5C138D728DA7CA8C299E8848, status_code: 200\n",
      "2018-12-14 19:01:06,356 Get object done, req_id: 5C138D728DA7CA8C299E8848, status_code: 200\n",
      "2018-12-14 19:01:06,374 Event: [], Exeption: Expecting value: line 1 column 1 (char 0)\n",
      "2018-12-14 19:01:06,376 oss2.api [INFO] 140735715738496 : Start to get object, bucket: internal-fnvalley， key: kafka-bakcup/20181113/event-prod.0.gz, range: , headers: {}, params: {}\n",
      "2018-12-14 19:01:06,376 Start to get object, bucket: internal-fnvalley， key: kafka-bakcup/20181113/event-prod.0.gz, range: , headers: {}, params: {}\n",
      "2018-12-14 19:01:06,418 oss2.api [INFO] 140735715738496 : Get object done, req_id: 5C138D728DA7CA8C299E88A9, status_code: 200\n",
      "2018-12-14 19:01:06,418 Get object done, req_id: 5C138D728DA7CA8C299E88A9, status_code: 200\n",
      "2018-12-14 19:01:06,452 Event: [], Exeption: Expecting value: line 1 column 1 (char 0)\n"
     ]
    }
   ],
   "source": [
    "o = bucket.list_objects(prefix=kafkaOssPathPrefix.format(date))\n",
    "for d in o.object_list:\n",
    "    object_stream = bucket.get_object(d.key)\n",
    "    data = gzip.decompress(object_stream.read())\n",
    "    for event in data.decode('utf8').split(\"\\r\\n\"):\n",
    "        checkAndAddDeviceToken(event)"
   ]
  },
  {
   "cell_type": "code",
   "execution_count": 120,
   "metadata": {},
   "outputs": [
    {
     "name": "stdout",
     "output_type": "stream",
     "text": [
      "[{\"loginId\": \"18321593357\", \"iosDeviceToken\": \"8d5bf8557bfe31aa4e09578e75bee5089c73a2782a2d0578b9d241cabeeb71ba\"}]\n",
      "<urllib3.response.HTTPResponse object at 0x1130f39b0>\n"
     ]
    }
   ],
   "source": [
    "logging.info(\"device token map: \" + str(loginIdDeviceTokenMap))\n",
    "if len(loginIdDeviceTokenMap) > 0:\n",
    "    dataList = []\n",
    "    for loginId in loginIdDeviceTokenMap: \n",
    "        data = {}\n",
    "        data[\"loginId\"] = loginId\n",
    "        data[\"iosDeviceToken\"] = loginIdDeviceTokenMap.get(loginId)\n",
    "        if data[\"iosDeviceToken\"] != \"\":\n",
    "            dataList.append(data)\n",
    "    response = http.request(\"POST\", postProfileUrl, body = json.dumps(dataList), headers = {\"Content-Type\":\"application/json\", \"Authorization\": \"Bearer \" + ACCESS_TOKEN})\n",
    "    logging.info(\"Response status: \" + str(response.status))\n",
    "    if response.status != 200:\n",
    "        sys.exit(-1)"
   ]
  }
 ],
 "metadata": {
  "kernelspec": {
   "display_name": "Python 3",
   "language": "python",
   "name": "python3"
  },
  "language_info": {
   "codemirror_mode": {
    "name": "ipython",
    "version": 3
   },
   "file_extension": ".py",
   "mimetype": "text/x-python",
   "name": "python",
   "nbconvert_exporter": "python",
   "pygments_lexer": "ipython3",
   "version": "3.7.1"
  }
 },
 "nbformat": 4,
 "nbformat_minor": 2
}
