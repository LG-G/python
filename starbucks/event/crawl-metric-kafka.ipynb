{
 "cells": [
  {
   "cell_type": "code",
   "execution_count": 71,
   "metadata": {},
   "outputs": [],
   "source": [
    "import sys\n",
    "import urllib.request\n",
    "import urllib3\n",
    "import logging\n",
    "import os"
   ]
  },
  {
   "cell_type": "code",
   "execution_count": 72,
   "metadata": {},
   "outputs": [],
   "source": [
    "KAFKA_HOST=\"new-world-gate-008\"\n",
    "KAFKA_BROKER=\"10.10.0.214:9092\"\n",
    "PROMETHEUS_PUSHGATEWAY=\"10.10.0.214:9091\"\n",
    "postUrl = \"http://{}/metrics/job/kafkaMetric\".format(PROMETHEUS_PUSHGATEWAY)\n",
    "groupTopicPair = [[\"message-notification-prod1\", \"message_v2-prod1\"], \n",
    "                  [\"message-notification-test\", \"message_v2-test\"],\n",
    "                  [\"kafkaListener\", \"event-prod\"],\n",
    "                  [\"kafkaListener\", \"event-test\"],\n",
    "                  [\"smart-scan-event-prod\", \"event_v2-prod\"],\n",
    "                  [\"smart-scan-event-test\", \"event_v2-test\"],\n",
    "                  [\"event-flink\", \"event_v2-prod\"],\n",
    "                  [\"event-flink\", \"event_v2-test\"]\n",
    "]\n",
    "#command = \"export JAVA_HOME=/ws/program/jdk;/ws/program/kafka/bin/kafka-consumer-groups.sh --bootstrap-server 10.10.0.214:9092 --describe --group message-notification-prod1 | grep message_v2-prod1\"\n",
    "#data=os.popen(\"ssh -q -o 'StrictHostKeyChecking no' nw@{} \\\"{}\\\"\".format(kafkaHost, command)).read().rstrip()\n"
   ]
  },
  {
   "cell_type": "code",
   "execution_count": 73,
   "metadata": {},
   "outputs": [],
   "source": [
    "def getTopicInfo(group, topic, result):\n",
    "    command = \"export JAVA_HOME=/ws/program/jdk;/ws/program/kafka/bin/kafka-consumer-groups.sh --bootstrap-server {} --describe --group {} | grep {}\".format(KAFKA_BROKER, group, topic)\n",
    "    data = os.popen(\"ssh -q -o 'StrictHostKeyChecking no' nw@{} \\\"{}\\\"\".format(KAFKA_HOST, command)).read().rstrip()\n",
    "    for line in data.split(\"\\n\"): \n",
    "        topicPartitionInfo = line.split()\n",
    "        partition = topicPartitionInfo[1]\n",
    "        endOffset = topicPartitionInfo[3]\n",
    "        lag = topicPartitionInfo[4]\n",
    "        result.append([group, topic, partition, endOffset, lag])"
   ]
  },
  {
   "cell_type": "code",
   "execution_count": 74,
   "metadata": {},
   "outputs": [],
   "source": [
    "result = []\n",
    "for groupTopic in groupTopicPair:\n",
    "    getTopicInfo(groupTopic[0], groupTopic[1], result)"
   ]
  },
  {
   "cell_type": "code",
   "execution_count": 75,
   "metadata": {},
   "outputs": [],
   "source": [
    "if len(result) > 0:\n",
    "    postData = \"\"\n",
    "    for topicPartitionInfo in result:\n",
    "        postData += \"\"\"kafkaEndOffsetMetric{{group=\"{}\",topic=\"{}\",partition=\"{}\"}} {}\\n\"\"\".format(topicPartitionInfo[0], topicPartitionInfo[1], topicPartitionInfo[2], topicPartitionInfo[3])\n",
    "        postData += \"\"\"kafkaLagMetric{{group=\"{}\",topic=\"{}\",partition=\"{}\"}} {}\\n\"\"\".format(topicPartitionInfo[0], topicPartitionInfo[1], topicPartitionInfo[2], topicPartitionInfo[4])\n",
    "    urllib.request.urlopen(url = postUrl, data = postData.encode('utf-8'))"
   ]
  },
  {
   "cell_type": "code",
   "execution_count": null,
   "metadata": {},
   "outputs": [],
   "source": []
  }
 ],
 "metadata": {
  "kernelspec": {
   "display_name": "Python 3",
   "language": "python",
   "name": "python3"
  },
  "language_info": {
   "codemirror_mode": {
    "name": "ipython",
    "version": 3
   },
   "file_extension": ".py",
   "mimetype": "text/x-python",
   "name": "python",
   "nbconvert_exporter": "python",
   "pygments_lexer": "ipython3",
   "version": "3.7.1"
  }
 },
 "nbformat": 4,
 "nbformat_minor": 2
}
