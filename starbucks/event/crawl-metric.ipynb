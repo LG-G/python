{
 "cells": [
  {
   "cell_type": "code",
   "execution_count": null,
   "metadata": {},
   "outputs": [],
   "source": [
    "import urllib.request\n",
    "import xml.etree.ElementTree as ET\n",
    "import datetime\n",
    "import time\n",
    "import json"
   ]
  },
  {
   "cell_type": "code",
   "execution_count": 2,
   "metadata": {},
   "outputs": [],
   "source": [
    "EUREKA_HOST=\"10.10.0.201:8300\"\n",
    "INFLUXDB_HOST=\"10.10.0.214:8086\"\n",
    "#EUREKA_HOST=\"10.10.0.215:8300\"\n",
    "#INFLUXDB_HOST=\"10.10.0.208:8086\"\n",
    "INFLUXDB_DATABASE=\"cityzone\"\n",
    "ACCESS_TOKEN=\"4f55964d-d361-44fe-94d8-2f2eaedce16e\"\n",
    "DATE_TIME=int(time.time()) * 1000000000\n",
    "HTTP_REQUEST_METRIC_NAME=\"http.server.requests\"\n",
    "TIMEOUT=10\n",
    "postUrl = \"http://{}/write?db={}\".format(INFLUXDB_HOST, INFLUXDB_DATABASE)\n"
   ]
  },
  {
   "cell_type": "code",
   "execution_count": 3,
   "metadata": {},
   "outputs": [],
   "source": [
    "def sendServiceStatus(service, hostPort, status):\n",
    "    statusCode = 0\n",
    "    if status == \"UP\":\n",
    "        statusCode = 5\n",
    "    data = \"servicestatus,service={},host={} status={} {}\".format(service, hostPort, statusCode, DATE_TIME)\n",
    "    urllib.request.urlopen(url = postUrl, data = data.encode('utf-8'))\n"
   ]
  },
  {
   "cell_type": "code",
   "execution_count": 4,
   "metadata": {},
   "outputs": [],
   "source": [
    "def sendMeasurement(service, hostPort, measurementName, measurement):\n",
    "    tags = measurement[\"tags\"]\n",
    "    data = measurement[\"data\"]\n",
    "    tagNames = \"service={},host={}\".format(service, hostPort)\n",
    "    for tag in tags:\n",
    "        tagNames += \",\" + tag[\"key\"] + \"=\" + tag[\"value\"].replace(\" \", \"\\\\ \")\n",
    "    for metricData in data:\n",
    "        if metricData[\"statistic\"] != \"MAX\":\n",
    "            postData = \"{},{} {}={} {}\".format(measurementName, tagNames, metricData[\"statistic\"], metricData[\"value\"], DATE_TIME)\n",
    "            urllib.request.urlopen(url = postUrl, data = postData.encode('utf-8'))"
   ]
  },
  {
   "cell_type": "code",
   "execution_count": 5,
   "metadata": {},
   "outputs": [],
   "source": [
    "def aggregateHttpError(measurement):\n",
    "    tags = measurement[\"tags\"]\n",
    "    data = measurement[\"data\"]\n",
    "    for tag in tags:\n",
    "        if tag[\"key\"] == \"status\" and (int(int(tag[\"value\"]) / 100) == 4 or int(int(tag[\"value\"]) / 100) == 5):\n",
    "            for metricData in data:\n",
    "                if metricData[\"statistic\"] == \"COUNT\":\n",
    "                    return metricData[\"value\"]\n",
    "    return 0"
   ]
  },
  {
   "cell_type": "code",
   "execution_count": 6,
   "metadata": {},
   "outputs": [],
   "source": [
    "def sendHttpRequestMetric(service, hostPort, requestMetric):\n",
    "    measurementName=\"requests\"\n",
    "    metricNameCount = \"COUNT\"\n",
    "    metricValueCount = 0\n",
    "    metricNameAvgTime = \"AVG_TIME\"\n",
    "    metricValueAvgTime = 0\n",
    "    metricNameTotalTime = \"TOTAL_TIME\"\n",
    "    metricValueTotalTime = 0\n",
    "    metricNameError = \"ERROR\"\n",
    "    metricValueError = 0 \n",
    "    for m in requestMetric[\"summary\"]:\n",
    "        statistic = m[\"statistic\"]\n",
    "        value = m[\"value\"]\n",
    "        if statistic == \"COUNT\":\n",
    "            metricValueCount = value\n",
    "        elif statistic == \"TOTAL_TIME\":\n",
    "            metricValueTotalTime = value\n",
    "    \n",
    "    if metricValueCount > 0:\n",
    "        metricValueAvgTime = metricValueTotalTime / metricValueCount\n",
    "        \n",
    "    for measurement in requestMetric[\"measurements\"]:\n",
    "        sendMeasurement(service, hostPort, measurementName, measurement)\n",
    "        metricValueError += aggregateHttpError(measurement)\n",
    "    \n",
    "    postData = \"{},service={},host={},uri=total,status=total,method=ALL {}={},{}={},{}={},{}={} {}\".format(measurementName,service,hostPort,metricNameCount,metricValueCount,metricNameTotalTime,metricValueTotalTime,metricNameAvgTime,metricValueAvgTime,metricNameError,metricValueError,DATE_TIME)\n",
    "    urllib.request.urlopen(url = postUrl, data = postData.encode('utf-8'))\n"
   ]
  },
  {
   "cell_type": "code",
   "execution_count": 7,
   "metadata": {},
   "outputs": [],
   "source": [
    "def sendJvmMemoryUsed(service, hostPort, metricData):\n",
    "    for measurement in metricData[\"measurements\"]:\n",
    "        sendMeasurement(service, hostPort, \"jvmmemory\", measurement)"
   ]
  },
  {
   "cell_type": "code",
   "execution_count": 8,
   "metadata": {},
   "outputs": [],
   "source": [
    "def sendGcPause(service, hostPort, metricData):\n",
    "    for measurement in metricData[\"measurements\"]:\n",
    "        sendMeasurement(service, hostPort, \"gcpause\", measurement)"
   ]
  },
  {
   "cell_type": "code",
   "execution_count": 9,
   "metadata": {},
   "outputs": [],
   "source": [
    "def sendHikaricpConnection(service, hostPort, dataType, metricData):\n",
    "    measurementName=\"hikaricp.connections\"\n",
    "    tagData = []\n",
    "    for m in metricData[\"summary\"]:\n",
    "        statistic = m[\"statistic\"]\n",
    "        value = m[\"value\"]\n",
    "        if statistic != \"MAX\":\n",
    "            tagData.append(\"{}={}\".format(statistic,value))\n",
    "    if len(tagData) > 0:\n",
    "        postData = \"{},service={},host={},type={} {} {}\".format(measurementName,service,hostPort,dataType,\",\".join(tagData),DATE_TIME)\n",
    "        urllib.request.urlopen(url = postUrl, data = postData.encode('utf-8'))"
   ]
  },
  {
   "cell_type": "code",
   "execution_count": 10,
   "metadata": {},
   "outputs": [],
   "source": [
    "def sendHibernateMetric(service, hostPort, dataType, metricData):\n",
    "    measurementName=\"hibernate\"\n",
    "    if len(metricData[\"summary\"]) == 1:\n",
    "        m = metricData[\"summary\"][0]\n",
    "        value = m[\"value\"]\n",
    "        postData = \"{},service={},host={} {}={} {}\".format(measurementName,service,hostPort,dataType,value,DATE_TIME)\n",
    "        urllib.request.urlopen(url = postUrl, data = postData.encode('utf-8'))\n",
    "    if dataType == \"transactions\":\n",
    "        for measurement in metricData[\"measurements\"]:\n",
    "            tags = measurement[\"tags\"]\n",
    "            if len(tags) == 1 and tags[0][\"key\"] == \"result\" and tags[0][\"value\"] == \"failure\":\n",
    "                value = measurement[\"data\"][0][\"value\"];\n",
    "                postData = \"{},service={},host={} {}={} {}\".format(measurementName,service,hostPort,\"failure\",value,DATE_TIME)\n",
    "                urllib.request.urlopen(url = postUrl, data = postData.encode('utf-8'))"
   ]
  },
  {
   "cell_type": "code",
   "execution_count": 11,
   "metadata": {},
   "outputs": [],
   "source": [
    "def sendDeferredMetric(service, hostPort, dataType, metricData):\n",
    "    measurementName=\"deferredresult\"\n",
    "    if len(metricData[\"summary\"]) == 1:\n",
    "        m = metricData[\"summary\"][0]\n",
    "        value = m[\"value\"]\n",
    "        postData = \"{},service={},host={} {}={} {}\".format(measurementName,service,hostPort,dataType,value,DATE_TIME)\n",
    "        urllib.request.urlopen(url = postUrl, data = postData.encode('utf-8'))"
   ]
  },
  {
   "cell_type": "code",
   "execution_count": 12,
   "metadata": {},
   "outputs": [],
   "source": [
    "## send actuator metric including http request, jvm memory, jvm gc\n",
    "def sendActuatorMetric(service, hostPort):\n",
    "    try: \n",
    "        includingMetric=\"http.server.requests:uri;method;status,jvm.memory.used:area,jvm.gc.pause:cause,hikaricp.connections.usage,hikaricp.connections.pending,hikaricp.connections.active\"\n",
    "        includingMetric+=\",hibernate.statements:status,hibernate.query.executions,hibernate.query.executions.max,hibernate.transactions:result\"\n",
    "        includingMetric+=\",deferredresult.connecting,deferredresult.complete,deferredresult.timeout\"\n",
    "        url = \"http://{}/actuator/custom-metrics?includingMetric={}&access_token={}\".format(hostPort, includingMetric, ACCESS_TOKEN)\n",
    "        response = urllib.request.urlopen(url,timeout=TIMEOUT).read()\n",
    "        responseJson = json.loads(response.decode('utf8'))\n",
    "        for metricData in responseJson:\n",
    "            name = metricData[\"name\"]\n",
    "            if name == \"http.server.requests\":\n",
    "                sendHttpRequestMetric(service, hostPort, metricData)\n",
    "            elif name == \"jvm.memory.used\":\n",
    "                sendJvmMemoryUsed(service, hostPort, metricData)\n",
    "            elif name == \"jvm.gc.pause\":\n",
    "                sendGcPause(service, hostPort, metricData)\n",
    "            elif name.startswith(\"hikaricp.connections.\"):\n",
    "                dataType = name[len(\"hikaricp.connections.\"):]\n",
    "                sendHikaricpConnection(service, hostPort, dataType, metricData)\n",
    "            elif name.startswith(\"hibernate.\"):\n",
    "                dataType = name[len(\"hibernate.\"):]\n",
    "                sendHibernateMetric(service, hostPort, dataType, metricData)\n",
    "            elif name.startswith(\"deferredresult.\"):\n",
    "                dataType = name[len(\"deferredresult.\"):]\n",
    "                sendDeferredMetric(service, hostPort, dataType, metricData)\n",
    "                \n",
    "    except urllib.error.HTTPError as httpError:\n",
    "        print(\"Error when get actuator metrics with status code: \" + str(httpError.code))"
   ]
  },
  {
   "cell_type": "code",
   "execution_count": 13,
   "metadata": {},
   "outputs": [],
   "source": [
    "def crawl_metric(service):\n",
    "    try:\n",
    "        print(\"Service is \" + service)\n",
    "        response = urllib.request.urlopen(\"http://\" + EUREKA_HOST + \"/eureka/apps/\" + service, timeout=TIMEOUT)\n",
    "        html = response.read()\n",
    "        root = ET.fromstring(html)\n",
    "        if service == \"new-world-cloud-uaa\":\n",
    "            service = \"uaa-service\"\n",
    "        for instance in root.findall(\"instance\"):\n",
    "            ip = instance.find(\"ipAddr\").text\n",
    "            port = instance.find(\"port\").text\n",
    "            status = instance.find(\"status\").text\n",
    "            hostPort = ip + \":\" + port\n",
    "            print(hostPort + \" => \" + status)\n",
    "            sendServiceStatus(service, hostPort, status)\n",
    "            sendActuatorMetric(service, hostPort)\n",
    "    except:\n",
    "        print(\"Exception to get metric of service: \" + service)"
   ]
  },
  {
   "cell_type": "code",
   "execution_count": 14,
   "metadata": {},
   "outputs": [
    {
     "name": "stdout",
     "output_type": "stream",
     "text": [
      "Service is notification1-service\n",
      "Exception to get metric of service: notification1-service\n"
     ]
    }
   ],
   "source": [
    "crawl_metric(\"advertising-service\")\n",
    "crawl_metric(\"better-discount-service\")\n",
    "crawl_metric(\"asset-service\")\n",
    "crawl_metric(\"new-world-cloud-uaa\")\n",
    "crawl_metric(\"task-service\")\n",
    "crawl_metric(\"game-service\")\n",
    "crawl_metric(\"profile-service\")\n",
    "crawl_metric(\"promotion-service\")\n",
    "crawl_metric(\"account-service\")\n",
    "crawl_metric(\"meta-service\")\n",
    "crawl_metric(\"discount-tickets-service\")\n",
    "crawl_metric(\"signin-service\")\n",
    "crawl_metric(\"notice-service\")\n",
    "crawl_metric(\"message-service\")\n",
    "crawl_metric(\"payment-service\")\n",
    "crawl_metric(\"order-service\")\n",
    "crawl_metric(\"besttv-service\")\n",
    "crawl_metric(\"contact-service\")\n",
    "crawl_metric(\"game-service\")\n",
    "crawl_metric(\"building-show-service\")\n",
    "crawl_metric(\"3rd-content-service\")\n",
    "crawl_metric(\"item-service\")\n",
    "crawl_metric(\"notification1-service\")"
   ]
  }
 ],
 "metadata": {
  "kernelspec": {
   "display_name": "Python 3",
   "language": "python",
   "name": "python3"
  },
  "language_info": {
   "codemirror_mode": {
    "name": "ipython",
    "version": 3
   },
   "file_extension": ".py",
   "mimetype": "text/x-python",
   "name": "python",
   "nbconvert_exporter": "python",
   "pygments_lexer": "ipython3",
   "version": "3.5.2"
  }
 },
 "nbformat": 4,
 "nbformat_minor": 2
}
