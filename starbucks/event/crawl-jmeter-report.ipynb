{
 "cells": [
  {
   "cell_type": "code",
   "execution_count": 1,
   "metadata": {},
   "outputs": [],
   "source": [
    "import urllib.request\n",
    "import xml.etree.ElementTree as ET\n",
    "from datetime import datetime\n",
    "import time\n",
    "import json\n",
    "import html.parser\n",
    "import re"
   ]
  },
  {
   "cell_type": "code",
   "execution_count": 2,
   "metadata": {},
   "outputs": [],
   "source": [
    "JMETER_REPORT_HOST=\"10.10.0.221\"\n",
    "#INFLUXDB_HOST=\"10.10.0.208:8086\"\n",
    "INFLUXDB_HOST=\"10.10.0.214:8086\"\n",
    "INFLUXDB_DATABASE=\"cityzone\"\n",
    "MEASUREMENT_NAME=\"jmeterreport\"\n",
    "DATE_STR=datetime.now().strftime(\"%Y%m%d\")\n",
    "TIMEOUT=10"
   ]
  },
  {
   "cell_type": "code",
   "execution_count": 3,
   "metadata": {},
   "outputs": [],
   "source": [
    "def sendItemData(service, nanoDateTime, itemData):\n",
    "    if len(itemData) == 13:\n",
    "        label = itemData[0].replace(\" \", \"\\\\ \")\n",
    "        sample = itemData[1]\n",
    "        error = itemData[2]\n",
    "        errorRate = itemData[3]\n",
    "        avg = itemData[4]\n",
    "        min = itemData[5]\n",
    "        max = itemData[6]\n",
    "        th90 = itemData[7]\n",
    "        th95 = itemData[8]\n",
    "        th99 = itemData[9]\n",
    "        throughput = itemData[10]\n",
    "        received = itemData[11]\n",
    "        sent = itemData[12]\n",
    "        fieldData = \"sample={},error={},errorRate={},avg={},min={},max={},90th={},95th={},99th={},throughput={},received={},sent={}\".format(sample, error, errorRate,avg,min,max,th90,th95,th99,throughput,received,sent)\n",
    "        data = \"{},service={},label={} {} {}\".format(MEASUREMENT_NAME,service,label,fieldData,nanoDateTime)\n",
    "        urllib.request.urlopen(url = \"http://{}/write?db={}\".format(INFLUXDB_HOST, INFLUXDB_DATABASE), data = data.encode('utf-8'))\n"
   ]
  },
  {
   "cell_type": "code",
   "execution_count": 4,
   "metadata": {},
   "outputs": [],
   "source": [
    "def crawl_jmeter_data(service):\n",
    "    print(\"Service is \" + service)\n",
    "    url = \"http://{}/{}/{}\".format(JMETER_REPORT_HOST, DATE_STR, service)\n",
    "    response = urllib.request.urlopen(url, timeout=TIMEOUT)\n",
    "    html = response.readlines()\n",
    "    startDate = \"\"\n",
    "    for line in html:\n",
    "        if startDate == \"get\": \n",
    "            startDate = str(line)\n",
    "            match = re.search(\".*<td>\\\"(.+)\\\"</td>.*\", startDate)\n",
    "            if match:\n",
    "                startDate = match.group(1)\n",
    "        if \"Start Time\" in str(line):\n",
    "            startDate = \"get\"        \n",
    "    date = datetime.strptime(startDate, \"%m/%d/%y %I:%M %p\")\n",
    "    print(date)\n",
    "    nano_time = date.strftime(\"%s000000000\")\n",
    "    \n",
    "    dataUrl = \"http://{}/{}/{}/content/js/dashboard.js\".format(JMETER_REPORT_HOST, DATE_STR, service)\n",
    "    response = urllib.request.urlopen(dataUrl, timeout=TIMEOUT)\n",
    "    html = response.readlines()\n",
    "    for line in html:\n",
    "        if \"statisticsTable\" in str(line):\n",
    "            contentLine = str(line, \"utf-8\")\n",
    "            match = re.search(\".*statisticsTable\\\"\\), (\\{.+\\}), function.*\", contentLine)\n",
    "            if match:\n",
    "                statisticsJson = json.loads(match.group(1))\n",
    "                sendItemData(service, nano_time, statisticsJson[\"overall\"][\"data\"])\n",
    "                for item in statisticsJson[\"items\"]:\n",
    "                    sendItemData(service, nano_time, item[\"data\"])"
   ]
  },
  {
   "cell_type": "code",
   "execution_count": 5,
   "metadata": {},
   "outputs": [
    {
     "name": "stdout",
     "output_type": "stream",
     "text": [
      "Service is task-service\n",
      "2018-08-02 00:40:00\n",
      "Service is uaa-service\n",
      "2018-08-02 00:30:00\n",
      "Service is asset-service\n",
      "2018-08-02 00:30:00\n",
      "Service is advertising-service\n",
      "2018-08-02 00:33:00\n",
      "Service is better-discount-service\n",
      "2018-08-02 00:34:00\n",
      "Service is discount-tickets-service\n",
      "2018-08-02 00:35:00\n",
      "Service is meta-service\n",
      "2018-08-02 00:38:00\n",
      "Service is notice-service\n",
      "2018-08-02 00:39:00\n",
      "Service is profile-service\n",
      "2018-08-02 00:39:00\n"
     ]
    }
   ],
   "source": [
    "crawl_jmeter_data(\"task-service\")\n",
    "crawl_jmeter_data(\"uaa-service\")\n",
    "crawl_jmeter_data(\"asset-service\")\n",
    "crawl_jmeter_data(\"advertising-service\")\n",
    "crawl_jmeter_data(\"better-discount-service\")\n",
    "crawl_jmeter_data(\"discount-tickets-service\")\n",
    "crawl_jmeter_data(\"meta-service\")\n",
    "crawl_jmeter_data(\"notice-service\")\n",
    "crawl_jmeter_data(\"profile-service\")\n",
    "crawl_jmeter_data(\"message-service\")"
   ]
  },
  {
   "cell_type": "code",
   "execution_count": null,
   "metadata": {},
   "outputs": [],
   "source": []
  }
 ],
 "metadata": {
  "kernelspec": {
   "display_name": "Python 3",
   "language": "python",
   "name": "python3"
  },
  "language_info": {
   "codemirror_mode": {
    "name": "ipython",
    "version": 3
   },
   "file_extension": ".py",
   "mimetype": "text/x-python",
   "name": "python",
   "nbconvert_exporter": "python",
   "pygments_lexer": "ipython3",
   "version": "3.5.2"
  }
 },
 "nbformat": 4,
 "nbformat_minor": 2
}
