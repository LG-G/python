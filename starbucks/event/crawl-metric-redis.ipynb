{
 "cells": [
  {
   "cell_type": "code",
   "execution_count": 32,
   "metadata": {},
   "outputs": [],
   "source": [
    "import urllib.request\n",
    "import xml.etree.ElementTree as ET\n",
    "import datetime\n",
    "import time\n",
    "import json\n",
    "import redis"
   ]
  },
  {
   "cell_type": "code",
   "execution_count": 33,
   "metadata": {},
   "outputs": [],
   "source": [
    "INFLUXDB_HOST=\"10.10.0.214:8086\"\n",
    "#INFLUXDB_HOST=\"10.10.0.208:8086\"\n",
    "INFLUXDB_DATABASE=\"cityzone\"\n",
    "ACCESS_TOKEN=\"4f55964d-d361-44fe-94d8-2f2eaedce16e\"\n",
    "DATE_TIME=int(time.time()) * 1000000000\n",
    "TIMEOUT=10\n",
    "postUrl = \"http://{}/write?db={}\".format(INFLUXDB_HOST, INFLUXDB_DATABASE)"
   ]
  },
  {
   "cell_type": "code",
   "execution_count": 34,
   "metadata": {},
   "outputs": [
    {
     "name": "stdout",
     "output_type": "stream",
     "text": [
      "{'slave_expires_tracked_keys': 0, 'arch_bits': 64, 'used_memory_peak': 1823128, 'loading': 0, 'rdb_last_cow_size': 0, 'pubsub_channels': 0, 'aof_enabled': 0, 'used_memory_lua_human': '269.00K', 'atomicvar_api': 'atomic-builtin', 'pubsub_patterns': 0, 'aof_rewrite_scheduled': 0, 'active_defrag_hits': 0, 'used_memory_startup': 786576, 'blocked_clients': 0, 'db0': {'expires': 58, 'keys': 143, 'avg_ttl': 251830368}, 'client_longest_output_list': 0, 'uptime_in_seconds': 9339661, 'instantaneous_input_kbps': 0.0, 'lazyfree_pending_objects': 0, 'role': 'master', 'redis_git_dirty': 0, 'sync_partial_err': 0, 'active_defrag_key_misses': 0, 'repl_backlog_size': 1048576, 'maxmemory_policy': 'allkeys-lru', 'run_id': 'eb900751d90d26305952fd648139b7e5f0446095', 'os': 'Linux 4.4.0-117-generic x86_64', 'multiplexing_api': 'epoll', 'used_memory_rss_human': '5.39M', 'maxmemory': 2147483648, 'total_system_memory_human': '7.80G', 'rdb_last_save_time': 1530868106, 'sync_partial_ok': 0, 'master_replid2': 0, 'mem_fragmentation_ratio': 4.57, 'used_cpu_user': 2232.2, 'total_commands_processed': 310428, 'maxmemory_human': '2.00G', 'expired_stale_perc': 0.0, 'aof_last_cow_size': 0, 'active_defrag_misses': 0, 'mem_allocator': 'jemalloc-4.0.3', 'redis_build_id': 'b02deaea98e7d6be', 'used_cpu_user_children': 0.0, 'rejected_connections': 0, 'used_memory_human': '1.18M', 'rdb_current_bgsave_time_sec': -1, 'used_memory_overhead': 1003744, 'cluster_enabled': 0, 'used_memory_peak_human': '1.74M', 'connected_clients': 10, 'used_cpu_sys_children': 0.0, 'total_net_input_bytes': 26046705, 'master_repl_offset': 0, 'executable': '/ws/program/redis-4.0.9/bin/redis-server', 'expired_time_cap_reached_count': 0, 'total_connections_received': 821, 'redis_version': '4.0.9', 'redis_mode': 'standalone', 'repl_backlog_active': 0, 'used_memory': 1235704, 'second_repl_offset': -1, 'config_file': '/ws/program/redis-4.0.9/redis.conf', 'active_defrag_key_hits': 0, 'gcc_version': '5.4.0', 'expired_keys': 124923, 'evicted_keys': 0, 'repl_backlog_histlen': 0, 'rdb_changes_since_last_save': 207155, 'keyspace_hits': 94713, 'hz': 10, 'rdb_last_bgsave_time_sec': -1, 'used_memory_peak_perc': '67.78%', 'tcp_port': 6379, 'master_replid': 'b1bc2b3c9e0c9903e76f1a82b152aa37696d2268', 'used_memory_lua': 275456, 'aof_last_bgrewrite_status': 'ok', 'instantaneous_ops_per_sec': 0, 'used_memory_dataset': 231960, 'active_defrag_running': 0, 'process_id': 2241, 'used_memory_dataset_perc': '51.65%', 'latest_fork_usec': 0, 'used_memory_rss': 5652480, 'total_system_memory': 8371286016, 'total_net_output_bytes': 87389762, 'keyspace_misses': 3550, 'lru_clock': 13481111, 'aof_rewrite_in_progress': 0, 'instantaneous_output_kbps': 0.0, 'connected_slaves': 0, 'repl_backlog_first_byte_offset': 0, 'aof_last_write_status': 'ok', 'aof_last_rewrite_time_sec': -1, 'client_biggest_input_buf': 0, 'rdb_bgsave_in_progress': 0, 'rdb_last_bgsave_status': 'ok', 'aof_current_rewrite_time_sec': -1, 'sync_full': 0, 'uptime_in_days': 108, 'redis_git_sha1': 0, 'used_cpu_sys': 3317.84, 'migrate_cached_sockets': 0}\n"
     ]
    }
   ],
   "source": [
    "pool = redis.ConnectionPool(host='testgate.zan-qian.com', port=6379, password=\"640f9791f9d73033UG\", decode_responses=True)\n",
    "r = redis.Redis(connection_pool=pool)\n",
    "info = r.info()"
   ]
  },
  {
   "cell_type": "code",
   "execution_count": 35,
   "metadata": {},
   "outputs": [],
   "source": [
    "def sendMetric(info, name):\n",
    "    value = info.get(name)\n",
    "    data = \"redisInfo,name={} value={} {}\".format(name, value, DATE_TIME)\n",
    "    urllib.request.urlopen(url = postUrl, data = data.encode('utf-8'))"
   ]
  },
  {
   "cell_type": "code",
   "execution_count": 38,
   "metadata": {},
   "outputs": [],
   "source": [
    "def sendDbMetric(info):\n",
    "    dbName = \"db0\"\n",
    "    value = info.get(dbName)\n",
    "    for key in value:\n",
    "        data = \"redisInfo,name={} value={} {}\".format(dbName + \".\" + key, value[key], DATE_TIME)\n",
    "        urllib.request.urlopen(url = postUrl, data = data.encode('utf-8'))\n"
   ]
  },
  {
   "cell_type": "code",
   "execution_count": 39,
   "metadata": {},
   "outputs": [],
   "source": [
    "names = [\"connected_clients\",\"blocked_clients\",\"used_memory\",\"used_memory_rss\",\"used_memory_peak\",\"used_memory_lua\",\"total_connections_received\",\"total_commands_processed\",\"instantaneous_ops_per_sec\",\"total_net_input_bytes\",\"total_net_output_bytes\",\"keyspace_hits\",\"keyspace_misses\",\"used_cpu_sys\",\"used_cpu_user\"]\n",
    "for name in names:\n",
    "    sendMetric(info, name)\n",
    "\n",
    "sendDbMetric(info)"
   ]
  },
  {
   "cell_type": "code",
   "execution_count": 40,
   "metadata": {},
   "outputs": [],
   "source": []
  },
  {
   "cell_type": "code",
   "execution_count": null,
   "metadata": {},
   "outputs": [],
   "source": []
  }
 ],
 "metadata": {
  "kernelspec": {
   "display_name": "Python 3",
   "language": "python",
   "name": "python3"
  },
  "language_info": {
   "codemirror_mode": {
    "name": "ipython",
    "version": 3
   },
   "file_extension": ".py",
   "mimetype": "text/x-python",
   "name": "python",
   "nbconvert_exporter": "python",
   "pygments_lexer": "ipython3",
   "version": "3.5.2"
  }
 },
 "nbformat": 4,
 "nbformat_minor": 2
}
