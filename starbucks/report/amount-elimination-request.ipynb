{
 "cells": [
  {
   "cell_type": "markdown",
   "metadata": {},
   "source": [
    "# 安装Mysql 驱动 \n",
    "\n",
    "```python\n",
    "pip install sqlalchemy\n",
    "```"
   ]
  },
  {
   "cell_type": "code",
   "execution_count": 39,
   "metadata": {},
   "outputs": [],
   "source": [
    "#导入dateframe计算工具\n",
    "import pandas as pd\n",
    "\n",
    "# #导入绘图工具\n",
    "# import matplotlib.pyplot as plt\n",
    "# #一般作为机器学习绘图用, 但是也能绘出更cool的图\n",
    "# import seaborn as sns\n",
    "\n",
    "# #行内xi\n",
    "# %matplotlib inline\n",
    "\n",
    "#mysql 数据源工具\n",
    "import sqlalchemy as db\n",
    "\n",
    "#系统及命令行\n",
    "import sys\n",
    "\n",
    "from datetime import datetime\n",
    "import json\n",
    "import requests\n",
    "import logging\n",
    "\n",
    "logging.getLogger().setLevel(logging.INFO)"
   ]
  },
  {
   "cell_type": "code",
   "execution_count": null,
   "metadata": {},
   "outputs": [],
   "source": [
    "logging.info('------------ datetime_now : {}------------'.format(datetime.now().strftime(\"%Y-%m-%d %H:%M:%S\")))\n",
    "logging.info('==========================  销帐 API start  ==========================')\n",
    "\n",
    "ACCESS_TOKEN=\"4f55964d-d361-44fe-94d8-2f2eaedce16e\"\n",
    "\n",
    "# env = 'test'\n",
    "# start_date = '2018-11-22'\n",
    "# end_date = '2018-12-11'\n",
    "\n",
    "# 环境\n",
    "env = sys.argv[1]\n",
    "# 开始时间\n",
    "start_date = sys.argv[2]\n",
    "# 结束时间\n",
    "end_date = str(sys.argv[2])\n",
    "\n",
    "if len(sys.argv) > 3:\n",
    "    end_date = sys.argv[3]\n",
    "\n",
    "if str(env) == 'test':\n",
    "    eliminate_url=\"http://testgate.zan-qian.com/payment-service/1.0.0/xian_campus/eliminate\"\n",
    "elif str(env) == 'prod':\n",
    "    eliminate_url=\"http://gateway.zan-qian.com/payment-service/1.0.0/xian_campus/eliminate\"\n",
    "elif str(env) == 'local':\n",
    "    eliminate_url=\"http://127.0.0.1:9001/1.0.0/xian_campus/eliminate\"\n",
    "else:\n",
    "    eliminate_url=\"http://testgate.zan-qian.com/payment-service/1.0.0/xian_campus/eliminate\"\n",
    "\n",
    "# log 参数信息\n",
    "logging.info('-----  env={}, start_date={}, end_date={}  -----'.format(env, start_date, end_date))\n",
    "logging.info('-----  eliminate_url={}  -----'.format(eliminate_url))"
   ]
  },
  {
   "cell_type": "code",
   "execution_count": null,
   "metadata": {
    "scrolled": false
   },
   "outputs": [],
   "source": [
    "request_param = {'startDate':start_date, 'endDate':end_date}\n",
    "headers = {'Authorization': 'Bearer {}'.format(ACCESS_TOKEN)}\n",
    "\n",
    "# 发起销帐请求\n",
    "response = requests.post(url=eliminate_url, data=request_param, headers=headers)\n",
    "\n",
    "logging.info('-----  requests code={}  -----'.format(response.status_code))\n",
    "logging.info('-----  requests content={}  -----'.format(response.content))\n",
    "\n",
    "logging.info('==========================  销帐 API end  ==========================')"
   ]
  },
  {
   "cell_type": "code",
   "execution_count": null,
   "metadata": {},
   "outputs": [],
   "source": []
  }
 ],
 "metadata": {
  "kernelspec": {
   "display_name": "Python 3",
   "language": "python",
   "name": "python3"
  },
  "language_info": {
   "codemirror_mode": {
    "name": "ipython",
    "version": 3
   },
   "file_extension": ".py",
   "mimetype": "text/x-python",
   "name": "python",
   "nbconvert_exporter": "python",
   "pygments_lexer": "ipython3",
   "version": "3.7.0"
  }
 },
 "nbformat": 4,
 "nbformat_minor": 2
}
