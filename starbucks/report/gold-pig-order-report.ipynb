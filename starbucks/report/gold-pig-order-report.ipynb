{
 "cells": [
  {
   "cell_type": "markdown",
   "metadata": {},
   "source": [
    "# 安装Mysql 驱动 \n",
    "\n",
    "```python\n",
    "pip install sqlalchemy\n",
    "```"
   ]
  },
  {
   "cell_type": "code",
   "execution_count": 1,
   "metadata": {},
   "outputs": [],
   "source": [
    "#导入dateframe计算工具\n",
    "import pandas as pd\n",
    "\n",
    "# #导入绘图工具\n",
    "# import matplotlib.pyplot as plt\n",
    "# #一般作为机器学习绘图用, 但是也能绘出更cool的图\n",
    "# import seaborn as sns\n",
    "\n",
    "# #行内xi\n",
    "# %matplotlib inline\n",
    "\n",
    "#mysql 数据源工具\n",
    "import sqlalchemy as db\n",
    "\n",
    "#系统及命令行\n",
    "import sys\n",
    "\n",
    "from datetime import datetime, timedelta\n",
    "import json\n",
    "import requests\n",
    "import logging\n",
    "#发邮件\n",
    "from starbucks import mail\n",
    "\n",
    "logging.getLogger().setLevel(logging.INFO)"
   ]
  },
  {
   "cell_type": "code",
   "execution_count": 5,
   "metadata": {},
   "outputs": [
    {
     "name": "stderr",
     "output_type": "stream",
     "text": [
      "INFO:root:------------ datetime_now : 2019-03-01 10:54:33------------\n",
      "INFO:root:==========================  金猪活动订单记录 start  ==========================\n",
      "INFO:root:-----  env=test, start_date=2019-02-01 00:00:00, end_date=2019-02-28 00:00:00  -----\n",
      "INFO:root:-----  get_user_address_url=http://testgate.zan-qian.com/profile-service/2.0.0/extra_profile/queryDeliveryInfo  -----\n",
      "INFO:root:-----  db_01=root:82f12dbf497b@10.10.0.215  -----\n",
      "INFO:root:-----  db_02=root:82f12dbf497b@10.10.0.215  -----\n"
     ]
    }
   ],
   "source": [
    "logging.info('------------ datetime_now : {}------------'.format(datetime.now().strftime(\"%Y-%m-%d %H:%M:%S\")))\n",
    "logging.info('==========================  金猪活动订单记录 start  ==========================')\n",
    "\n",
    "ACCESS_TOKEN=\"4f55964d-d361-44fe-94d8-2f2eaedce16e\"\n",
    "headers = {'Authorization': 'Bearer {}'.format(ACCESS_TOKEN), 'Content-Type': 'application/json'}\n",
    "\n",
    "# env = 'prod'\n",
    "# recipient = 'jiangmin@zan-qian.com'\n",
    "# start_date = datetime.strptime('2019-02-01', \"%Y-%m-%d\")\n",
    "# end_date = datetime.strptime('2019-02-28', \"%Y-%m-%d\")\n",
    "# sys.argv = [\"\", \"test\", \"bell.qiu@zan-qian.com\", \"2019-02-01\", \"2019-02-28\"]\n",
    "\n",
    "# 环境\n",
    "env = sys.argv[1]\n",
    "# 邮件收件人\n",
    "recipient = sys.argv[2]\n",
    "# 开始时间\n",
    "start_date = datetime.strptime(sys.argv[3], \"%Y-%m-%d\")\n",
    "# 结束时间\n",
    "end_date = datetime.strptime(sys.argv[3], \"%Y-%m-%d\")\n",
    "\n",
    "if len(sys.argv) > 4:\n",
    "    end_date = datetime.strptime(sys.argv[4], \"%Y-%m-%d\")\n",
    "\n",
    "if str(env) == 'test':\n",
    "    get_user_address_url=\"http://testgate.zan-qian.com/profile-service/2.0.0/extra_profile/queryDeliveryInfo\"\n",
    "    db_01 = 'root:82f12dbf497b@10.10.0.215'\n",
    "    db_02 = 'root:82f12dbf497b@10.10.0.215'\n",
    "elif str(env) == 'prod':\n",
    "    get_user_address_url=\"http://gateway.zan-qian.com/profile-service/2.0.0/extra_profile/queryDeliveryInfo\"\n",
    "    db_01 = 'cityzone:Hellowrold@123@cityzone-service.mysql.rds.aliyuncs.com:3306'\n",
    "    db_02 = 'cityzone:Hellowrold@123@cityzone-resources.mysql.rds.aliyuncs.com:3306'\n",
    "else:\n",
    "    get_user_address_url=\"http://testgate.zan-qian.com/profile-service/2.0.0/extra_profile/queryDeliveryInfo\"\n",
    "    db_01 = 'root:82f12dbf497b@10.10.0.215'\n",
    "    db_02 = 'root:82f12dbf497b@10.10.0.215'\n",
    "\n",
    "# log 参数信息\n",
    "logging.info('-----  env={}, start_date={}, end_date={}  -----'.format(env, start_date, end_date))\n",
    "logging.info('-----  get_user_address_url={}  -----'.format(get_user_address_url))\n",
    "logging.info('-----  db_01={}  -----'.format(db_01))\n",
    "logging.info('-----  db_02={}  -----'.format(db_02))"
   ]
  },
  {
   "cell_type": "code",
   "execution_count": 6,
   "metadata": {},
   "outputs": [],
   "source": [
    "mysql_order_conn_str = 'mysql+pymysql://{}/order_service?charset=utf8mb4'.format(db_02)\n",
    "\n",
    "# 订单记录sql\n",
    "order_trace_query = '''select t1.order_no,t1.login_id,t2.sku_no,t1.`status` \n",
    "                    from trade_order t1 \n",
    "                    left join order_sku t2 on t1.order_no = t2.order_no \n",
    "                    WHERE t1.`create_date` >= '{0}' and DATE_FORMAT(t1.`create_date`, '%%Y-%%m-%%d') <= '{1}' \n",
    "                    and t1.`specific_type` = 28 '''\n",
    "\n",
    "# 订单记录\n",
    "def get_order_trace(start_date, end_date):\n",
    "    try:\n",
    "        engine = db.create_engine(mysql_order_conn_str)\n",
    "        connection = engine.connect()\n",
    "        \n",
    "        df = pd.read_sql_query(order_trace_query.format(start_date, end_date), connection)\n",
    "    except:\n",
    "        print(\"读取数据错误\")\n",
    "        raise \"读取数据错误\"\n",
    "    connection.close()\n",
    "    return df"
   ]
  },
  {
   "cell_type": "code",
   "execution_count": 14,
   "metadata": {},
   "outputs": [],
   "source": [
    "mysql_singin_conn_str = 'mysql+pymysql://{}/task_service?charset=utf8mb4'.format(db_01)\n",
    "\n",
    "delta_days = (end_date - start_date).days + 1\n",
    "# 每天签到的人的统计sql\n",
    "signin_query = '''select login_id, c from (SELECT login_id, count(1) as c FROM signin \n",
    "                    WHERE create_date >= '{0}' and DATE_FORMAT(`create_date`, '%%Y-%%m-%%d') <= '{1}' GROUP BY login_id) \n",
    "                    a where c >= {2}'''.format(start_date, end_date, delta_days)\n",
    "# print(signin_query)\n",
    "\n",
    "# 每天签到的人\n",
    "def get_sigin_df(start_date, end_date):\n",
    "    try:\n",
    "        engine = db.create_engine(mysql_singin_conn_str)\n",
    "        connection = engine.connect()\n",
    "        \n",
    "        df = pd.read_sql_query(signin_query, connection)\n",
    "        df.columns=['签到用户','签到次数']\n",
    "    except:\n",
    "        print(\"读取数据错误\")\n",
    "        raise \"读取数据错误\"\n",
    "    connection.close()\n",
    "    return df['签到用户']\n",
    "\n",
    "signin_df = get_sigin_df(start_date, end_date)"
   ]
  },
  {
   "cell_type": "code",
   "execution_count": 17,
   "metadata": {},
   "outputs": [],
   "source": [
    "# 订单记录\n",
    "order_trace_df = get_order_trace(start_date, end_date)\n",
    "\n",
    "order_trace_df.loc[order_trace_df['sku_no'] == '1021_promotion_exchange_point_200', 'sku_no'] = '200积分'\n",
    "order_trace_df.loc[order_trace_df['sku_no'] == '1021_promotion_exchange_deductible_4', 'sku_no'] = '趣谷APP洗衣券'\n",
    "order_trace_df.loc[order_trace_df['sku_no'] == '1021_promotion_exchange_bestv_3_month', 'sku_no'] = 'BesTV会员季卡'\n",
    "order_trace_df.loc[order_trace_df['sku_no'] == '1021_promotion_exchange_water_frost', 'sku_no'] = '朵薇璐HI室友活氧沁水霜'\n",
    "order_trace_df.loc[order_trace_df['sku_no'] == '1021_promotion_exchange_bluetooth_headset', 'sku_no'] = '飞利浦蓝牙音响'\n",
    "order_trace_df.loc[order_trace_df['sku_no'] == '1021_promotion_exchange_golden_pig', 'sku_no'] = 'popking金猪'\n",
    "order_trace_df.loc[order_trace_df['status'] == 'wait_seller_send_goods', 'status'] = '等待发货'\n",
    "order_trace_df.loc[order_trace_df['status'] == 'trade_finished', 'status'] = '已完结'\n",
    "\n",
    "# 查询用户收获地址\n",
    "def get_user_address(df):\n",
    "    request_param = [df['login_id']]\n",
    "    response = requests.post(url=get_user_address_url, json=request_param, headers=headers)\n",
    "    address_json = json.loads(response.content).get('data')[0]\n",
    "    if address_json.get('deliveryName') is not None:\n",
    "        df['收货人姓名'] = address_json.get('deliveryName')\n",
    "        df['收货人电话'] = address_json.get('deliveryPhone')\n",
    "        df['收货人地址'] = address_json.get('deliveryAddress')\n",
    "    else:\n",
    "        df['收货人姓名'] = ''\n",
    "        df['收货人电话'] = ''\n",
    "        df['收货人地址'] = ''\n",
    "    return df\n",
    "\n",
    "order_trace_df = order_trace_df.apply(get_user_address, axis=1)\n",
    "order_trace_df.fillna(value='', inplace=True)\n",
    "order_trace_df.columns = ['订单号','兑换用户','兑换产品','订单状态','收货人姓名','收货人电话','收货人地址']"
   ]
  },
  {
   "cell_type": "code",
   "execution_count": 47,
   "metadata": {},
   "outputs": [],
   "source": [
    "# 生成 excel\n",
    "writer = pd.ExcelWriter('/tmp/gold-ping.xlsx')\n",
    "order_trace_df.to_excel(writer, sheet_name='金猪活动兑换明细', index=False)\n",
    "signin_df.to_excel(writer, sheet_name='金猪活动签到满28天的名单', index=False)\n",
    "writer.save()"
   ]
  },
  {
   "cell_type": "code",
   "execution_count": null,
   "metadata": {},
   "outputs": [],
   "source": [
    "# 发送带附件的邮件\n",
    "mail.send_mail_attachment(file_path='/tmp/gold-ping.xlsx', file_name='金猪活动兑换明细.xlsx', recipient=recipient, subject=\"金猪活动兑换明细\")"
   ]
  },
  {
   "cell_type": "code",
   "execution_count": null,
   "metadata": {
    "scrolled": false
   },
   "outputs": [],
   "source": [
    "logging.info('==========================  金猪活动订单记录 end  ==========================')"
   ]
  }
 ],
 "metadata": {
  "kernelspec": {
   "display_name": "Python 3",
   "language": "python",
   "name": "python3"
  },
  "language_info": {
   "codemirror_mode": {
    "name": "ipython",
    "version": 3
   },
   "file_extension": ".py",
   "mimetype": "text/x-python",
   "name": "python",
   "nbconvert_exporter": "python",
   "pygments_lexer": "ipython3",
   "version": "3.7.0"
  }
 },
 "nbformat": 4,
 "nbformat_minor": 2
}
