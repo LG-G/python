{
 "cells": [
  {
   "cell_type": "markdown",
   "metadata": {},
   "source": [
    "# 安装Mysql 驱动 \n",
    "\n",
    "```python\n",
    "pip install sqlalchemy\n",
    "```"
   ]
  },
  {
   "cell_type": "code",
   "execution_count": 2,
   "metadata": {},
   "outputs": [],
   "source": [
    "#导入dateframe计算工具\n",
    "import pandas as pd\n",
    "\n",
    "# #导入绘图工具\n",
    "# import matplotlib.pyplot as plt\n",
    "# #一般作为机器学习绘图用, 但是也能绘出更cool的图\n",
    "# import seaborn as sns\n",
    "\n",
    "#行内xi\n",
    "# %matplotlib inline\n",
    "\n",
    "#mysql 数据源工具\n",
    "import sqlalchemy as db\n",
    "\n",
    "#系统及命令行\n",
    "import sys\n",
    "\n",
    "from datetime import datetime\n",
    "import json\n",
    "import logging\n",
    "\n",
    "logging.getLogger().setLevel(logging.INFO)\n",
    "\n",
    "#发邮件\n",
    "from starbucks import mail"
   ]
  },
  {
   "cell_type": "code",
   "execution_count": null,
   "metadata": {},
   "outputs": [],
   "source": [
    "logging.info('------------ datetime_now : {}------------'.format(datetime.now().strftime(\"%Y-%m-%d %H:%M:%S\")))\n",
    "logging.info('==========================  销帐报表 start  ==========================')\n",
    "\n",
    "sys.argv = [\"\", \"test\", \"月统计报表\", \"jiangmin@zan-qian.com\", \"2019-02-01\", \"2019-02-28\"]\n",
    "\n",
    "# 环境\n",
    "env = sys.argv[1]\n",
    "# 报表描述\n",
    "report_desc = sys.argv[2]\n",
    "# 邮件收件人\n",
    "recipient = sys.argv[3]\n",
    "# 开始时间\n",
    "start_date = sys.argv[4]\n",
    "# 结束时间\n",
    "end_date = str(sys.argv[4])\n",
    "\n",
    "if len(sys.argv) > 5:\n",
    "    end_date = sys.argv[5]\n",
    "\n",
    "if str(env) == 'test':\n",
    "    db_01 = 'root:82f12dbf497b@10.10.0.215'\n",
    "    db_02 = 'root:82f12dbf497b@10.10.0.215'\n",
    "elif str(env) == 'prod':\n",
    "    db_01 = 'cityzone:Hellowrold@123@cityzone-service.mysql.rds.aliyuncs.com:3306'\n",
    "    db_02 = 'cityzone:Hellowrold@123@cityzone-resources.mysql.rds.aliyuncs.com:3306'\n",
    "else:\n",
    "    db_01 = 'root:82f12dbf497b@10.10.0.215'\n",
    "    db_02 = 'root:82f12dbf497b@10.10.0.215'\n",
    "\n",
    "# log 参数信息\n",
    "logging.info('-----  env={}, start_date={}, end_date={}  -----'.format(env, start_date, end_date))\n",
    "logging.info('-----  db_01={}  -----'.format(db_01))\n",
    "logging.info('-----  db_02={}  -----'.format(db_02))\n",
    "logging.info('-----  recipient={}  -----'.format(recipient))\n",
    "logging.info('-----  report_desc={}  -----'.format(report_desc))"
   ]
  },
  {
   "cell_type": "code",
   "execution_count": 6,
   "metadata": {},
   "outputs": [],
   "source": [
    "mysql_elimination_conn_str = 'mysql+pymysql://{}/elimination_service?charset=utf8mb4'.format(db_02)\n",
    "\n",
    "# 清帐状态增加一个 “无需清帐”金额小于0.1， 小于0.1的金额，认为是已清帐\n",
    "# 积分卡券使用总结sql \n",
    "use_asset_summary_query = '''select t1.date as '日期', t1.consumption_number '用户消费次数(次)', t1.consumption_amount '用户消费总金额(元)', t1.top_up_amount '积分充值智能校园(元)', t1.deduction_amount '卡券抵扣智能校园(元)', t1.elimination_amount '需要清账金额(元)',\n",
    "                    (select sum(amount) from elimination_trace t2 where t1.date=t2.date and (t2.`status`='success' or t2.`status`='no_need')) as '已经清账金额(元)',\n",
    "                    if ((select sum(amount) from elimination_trace t2 where t1.date=t2.date and (t2.`status`='success' or t2.`status`='no_need'))>=t1.elimination_amount, '是','否') as '是否完结'\n",
    "                    FROM `use_asset_trace` t1 \n",
    "                    WHERE t1.`date` >= '{0}' and DATE_FORMAT(t1.`date`,'%%Y-%%m-%%d') <= '{1}' '''\n",
    "\n",
    "# 打款情况总结sql\n",
    "elimination_summary_query = '''select date as '日期', merchant_name '商户', amount '金额'\n",
    "                    from `elimination_trace`\n",
    "                    where `date` >= '{0}' and DATE_FORMAT(`date`,'%%Y-%%m-%%d') <= '{1}' \n",
    "                    and (`status`='success' or `status`='no_need') '''\n",
    "\n",
    "# 积分卡券使用总结\n",
    "def get_use_asset_summary(start_date, end_date):\n",
    "    try:\n",
    "        engine = db.create_engine(mysql_elimination_conn_str)\n",
    "        connection = engine.connect()\n",
    "        \n",
    "        df = pd.read_sql_query(use_asset_summary_query.format(start_date, end_date), connection)\n",
    "    except:\n",
    "        print(\"读取数据错误\")\n",
    "        raise \"读取数据错误\"\n",
    "    connection.close()\n",
    "    return df\n",
    "\n",
    "# 打款情况总结\n",
    "def get_elimination_summary(start_date, end_date):\n",
    "    try:\n",
    "        engine = db.create_engine(mysql_elimination_conn_str)\n",
    "        connection = engine.connect()\n",
    "        \n",
    "        df = pd.read_sql_query(elimination_summary_query.format(start_date, end_date), connection)\n",
    "    except:\n",
    "        print(\"读取数据错误\")\n",
    "        raise \"读取数据错误\"\n",
    "    connection.close()\n",
    "    return df"
   ]
  },
  {
   "cell_type": "code",
   "execution_count": 7,
   "metadata": {},
   "outputs": [],
   "source": [
    "# 积分卡券使用总结\n",
    "use_asset_df = get_use_asset_summary(start_date, end_date)\n",
    "# 打款情况总结\n",
    "elimination_df = get_elimination_summary(start_date, end_date)"
   ]
  },
  {
   "cell_type": "code",
   "execution_count": 8,
   "metadata": {},
   "outputs": [],
   "source": [
    "# ----------------------------积分卡券使用总结----------------------------\n",
    "# def reset_end(df):\n",
    "#     if df['需要清账金额(元)'] == 0:\n",
    "#         df['是否完结'] = '是'\n",
    "#     return df\n",
    "# def reset_date_str(df):\n",
    "#     df['日期'] = df['日期'].strftime(\"%Y-%m-%d\")\n",
    "#     return df\n",
    "\n",
    "# NaN数据改为0\n",
    "use_asset_df.fillna(value=0, inplace=True)\n",
    "\n",
    "# 不需要清账的数据，改为已完结\n",
    "# use_asset_df = use_asset_df.apply(reset_end, axis=1)\n",
    "use_asset_df.loc[use_asset_df[use_asset_df['需要清账金额(元)'] == 0].index, '是否完结'] = '是'\n",
    "\n",
    "# 日期格式改为字符串\n",
    "# use_asset_df = use_asset_df.apply(reset_date_str, axis=1)\n",
    "use_asset_df[['日期']] = use_asset_df[['日期']].astype(str)\n",
    "\n",
    "use_asset_df.set_index('日期', inplace=True)\n",
    "\n",
    "# 积分卡券使用总结 数据反转\n",
    "# use_asset_df = use_asset_df.T"
   ]
  },
  {
   "cell_type": "code",
   "execution_count": 9,
   "metadata": {
    "scrolled": true
   },
   "outputs": [],
   "source": [
    "# ----------------------------商户打款总结----------------------------\n",
    "# 日期格式改为字符串\n",
    "elimination_df[['日期']] = elimination_df[['日期']].astype(str)\n",
    "\n",
    "if len(elimination_df) > 0:\n",
    "    elimination_df = elimination_df.groupby(['日期','商户']).sum()['金额'].to_frame()\n",
    "else:\n",
    "    elimination_df = pd.DataFrame(columns=['商户', '金额'])"
   ]
  },
  {
   "cell_type": "code",
   "execution_count": 10,
   "metadata": {},
   "outputs": [],
   "source": [
    "# # 生成 excel\n",
    "writer = pd.ExcelWriter('/tmp/{}.xlsx'.format(start_date))\n",
    "\n",
    "use_asset_df.to_excel(writer, sheet_name='积分卡券使用总结', index_label='日期')\n",
    "elimination_df.to_excel(writer, sheet_name='打款情况总结', index_label=['日期', '商户'])\n",
    "\n",
    "writer.save()"
   ]
  },
  {
   "cell_type": "code",
   "execution_count": 11,
   "metadata": {},
   "outputs": [],
   "source": [
    "# 发送带附件的邮件\n",
    "mail.send_mail_attachment(file_path='/tmp/{}.xlsx'.format(start_date), file_name='统计.xlsx', recipient=recipient, subject=report_desc)"
   ]
  },
  {
   "cell_type": "code",
   "execution_count": null,
   "metadata": {},
   "outputs": [],
   "source": [
    "logging.info('==========================  销帐报表 end  ==========================')"
   ]
  },
  {
   "cell_type": "code",
   "execution_count": null,
   "metadata": {},
   "outputs": [],
   "source": []
  }
 ],
 "metadata": {
  "kernelspec": {
   "display_name": "Python 3",
   "language": "python",
   "name": "python3"
  },
  "language_info": {
   "codemirror_mode": {
    "name": "ipython",
    "version": 3
   },
   "file_extension": ".py",
   "mimetype": "text/x-python",
   "name": "python",
   "nbconvert_exporter": "python",
   "pygments_lexer": "ipython3",
   "version": "3.7.0"
  }
 },
 "nbformat": 4,
 "nbformat_minor": 2
}
