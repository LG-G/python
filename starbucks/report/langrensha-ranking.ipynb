{
 "cells": [
  {
   "cell_type": "markdown",
   "metadata": {},
   "source": [
    "# 安装Mysql 驱动 \n",
    "\n",
    "```python\n",
    "pip install sqlalchemy\n",
    "```"
   ]
  },
  {
   "cell_type": "code",
   "execution_count": 1,
   "metadata": {},
   "outputs": [],
   "source": [
    "#导入dateframe计算工具\n",
    "import pandas as pd\n",
    "\n",
    "#系统及命令行\n",
    "import sys\n",
    "\n",
    "from datetime import datetime, date, timedelta\n",
    "import json\n",
    "import requests\n",
    "\n",
    "#发邮件\n",
    "from starbucks import mail, image, compression\n",
    "\n",
    "# #行内xi\n",
    "# %matplotlib inline"
   ]
  },
  {
   "cell_type": "code",
   "execution_count": 3,
   "metadata": {},
   "outputs": [],
   "source": [
    "url_prefix = 'http://gateway.fnvalley.com/promotion-service'\n",
    "# url_prefix = 'http://testgate.fnvalley.com/promotion-service'\n",
    "\n",
    "# 接口地址\n",
    "ranking_url = '{}/1.0.0/offline_activity/find_votes_ranking_all/25'.format(url_prefix)\n",
    "# 收件人邮箱\n",
    "recipient = 'aki.xie@zan-qian.com'\n",
    "# 图片存储地址\n",
    "img_path = '/tmp/langrensha_ranking_image'\n",
    "# excel地址\n",
    "excel_path = '/tmp/langrensha.xlsx'\n",
    "# 附件地址\n",
    "file_paths = [excel_path, '{}.zip'.format(img_path)]\n",
    "# 附件显示名称\n",
    "file_names = ['狼人杀排行榜.xlsx', '狼人杀排行榜头像.zip']\n"
   ]
  },
  {
   "cell_type": "code",
   "execution_count": 15,
   "metadata": {},
   "outputs": [],
   "source": [
    "# 查询狼人杀排行榜数据\n",
    "ranking_data = requests.get(url=ranking_url)\n",
    "\n",
    "ranking_json = {}\n",
    "if ranking_data.status_code == 200:\n",
    "    ranking_json = json.loads(ranking_data.content.decode('utf8'))\n",
    "\n",
    "# 排行数据\n",
    "data_df = ''\n",
    "if 'data' in ranking_json:\n",
    "    if len(ranking_json.get('data')) > 0:\n",
    "        data_df = pd.io.json.json_normalize(ranking_json.get('data'))\n",
    "\n",
    "\n",
    "data_df.drop(columns=['activityId','joinDate','userActivityId'],axis=1,inplace=True)\n",
    "data_df.columns = ['手机号', '排名', '入学年份', '头像', '专业', '真实姓名', '学校', '得票数']\n",
    "\n",
    "data_df.set_index('手机号', inplace=True)\n",
    "\n",
    "school_df = data_df['学校'].value_counts()\n",
    "school_df.name = '参加人数'"
   ]
  },
  {
   "cell_type": "code",
   "execution_count": 10,
   "metadata": {},
   "outputs": [],
   "source": [
    "# 生成 excel\n",
    "writer = pd.ExcelWriter(excel_path)\n",
    "\n",
    "data_df.to_excel(writer, sheet_name='排行榜')\n",
    "writer.save()\n",
    "\n",
    "school_df.to_excel(writer, sheet_name='学校报名情况', index_label='学校名称')\n",
    "writer.save()"
   ]
  },
  {
   "cell_type": "code",
   "execution_count": null,
   "metadata": {},
   "outputs": [],
   "source": [
    "for item in data_df['头像'].items():\n",
    "    if item[1] is not None:\n",
    "        image.download_image(url=item[1], file_path='{}/{}.jpg'.format(img_path, item[0]))\n",
    "\n",
    "# 压缩文件夹\n",
    "compression.make_zip(img_path, '{}.zip'.format(img_path))"
   ]
  },
  {
   "cell_type": "code",
   "execution_count": 4,
   "metadata": {},
   "outputs": [],
   "source": [
    "# 发送带附件的邮件\n",
    "mail.send_mail_attachments(file_path=file_paths, file_name=file_names, recipient=recipient, subject=\"狼人杀排行榜\")"
   ]
  },
  {
   "cell_type": "code",
   "execution_count": null,
   "metadata": {},
   "outputs": [],
   "source": []
  }
 ],
 "metadata": {
  "kernelspec": {
   "display_name": "Python 3",
   "language": "python",
   "name": "python3"
  },
  "language_info": {
   "codemirror_mode": {
    "name": "ipython",
    "version": 3
   },
   "file_extension": ".py",
   "mimetype": "text/x-python",
   "name": "python",
   "nbconvert_exporter": "python",
   "pygments_lexer": "ipython3",
   "version": "3.7.0"
  }
 },
 "nbformat": 4,
 "nbformat_minor": 2
}
