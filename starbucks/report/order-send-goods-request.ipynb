{
 "cells": [
  {
   "cell_type": "markdown",
   "metadata": {},
   "source": [
    "# 安装Mysql 驱动 \n",
    "\n",
    "```python\n",
    "pip install sqlalchemy\n",
    "```"
   ]
  },
  {
   "cell_type": "code",
   "execution_count": 1,
   "metadata": {},
   "outputs": [],
   "source": [
    "#导入dateframe计算工具\n",
    "import pandas as pd\n",
    "\n",
    "#mysql 数据源工具\n",
    "import sqlalchemy as db\n",
    "\n",
    "#系统及命令行\n",
    "import sys\n",
    "\n",
    "from datetime import datetime\n",
    "import json\n",
    "import requests\n",
    "import logging\n",
    "\n",
    "logging.getLogger().setLevel(logging.INFO)"
   ]
  },
  {
   "cell_type": "code",
   "execution_count": 61,
   "metadata": {},
   "outputs": [
    {
     "name": "stderr",
     "output_type": "stream",
     "text": [
      "INFO:root:------------ datetime_now : 2019-03-04 14:01:24------------\n",
      "INFO:root:==========================  发货 API start  ==========================\n",
      "INFO:root:-----  env=local, file_path=/Users/jiangmin/Downloads/金猪活动兑换明细.xlsx  -----\n",
      "INFO:root:-----  send_goods_url=http://127.0.0.1:9010/1.0.0/order/order_send_goods  -----\n"
     ]
    }
   ],
   "source": [
    "logging.info('------------ datetime_now : {}------------'.format(datetime.now().strftime(\"%Y-%m-%d %H:%M:%S\")))\n",
    "logging.info('==========================  发货 API start  ==========================')\n",
    "\n",
    "# ACCESS_TOKEN=\"4f55964d-d361-44fe-94d8-2f2eaedce16e\"\n",
    "ACCESS_TOKEN=\"0388e2d7-61f1-4588-ab8c-16e9d5dd98e3\"\n",
    "\n",
    "# sys.argv = [\"\", \"local\", \"/Users/jiangmin/Downloads/金猪活动兑换明细.xlsx\"]\n",
    "\n",
    "# 环境\n",
    "env = sys.argv[1]\n",
    "# 文件地址\n",
    "file_path = sys.argv[2]\n",
    "\n",
    "if str(env) == 'test':\n",
    "    send_goods_url=\"http://testgate.zan-qian.com/order-service/1.0.0/order/order_send_goods\"\n",
    "elif str(env) == 'prod':\n",
    "    send_goods_url=\"http://gateway.zan-qian.com/order-service/1.0.0/order/order_send_goods\"\n",
    "elif str(env) == 'local':\n",
    "    send_goods_url=\"http://127.0.0.1:9010/1.0.0/order/order_send_goods\"\n",
    "else:\n",
    "    send_goods_url=\"http://testgate.zan-qian.com/order-service/1.0.0/order/order_send_goods\"\n",
    "\n",
    "# log 参数信息\n",
    "logging.info('-----  env={}, file_path={}  -----'.format(env, file_path))\n",
    "logging.info('-----  send_goods_url={}  -----'.format(send_goods_url))"
   ]
  },
  {
   "cell_type": "code",
   "execution_count": null,
   "metadata": {},
   "outputs": [],
   "source": [
    "excel_df = pd.read_excel(file_path, index_col='订单号')\n",
    "headers = {'Authorization': 'Bearer {}'.format(ACCESS_TOKEN), 'Content-Type': 'application/json'}\n",
    "\n",
    "for index,data in excel_df.iterrows():\n",
    "    if (data['订单状态'] == '等待发货'):\n",
    "        request_param = {'orderNo':index}\n",
    "        response = requests.post(url=send_goods_url, data=json.dumps(request_param), headers=headers)\n",
    "        logging.info('-----  requests orderNo={}, code={}, content={}  -----'.format(index, response.status_code, response.content))"
   ]
  },
  {
   "cell_type": "code",
   "execution_count": null,
   "metadata": {},
   "outputs": [],
   "source": [
    "logging.info('==========================  发货 API end  ==========================')"
   ]
  },
  {
   "cell_type": "code",
   "execution_count": null,
   "metadata": {},
   "outputs": [],
   "source": []
  }
 ],
 "metadata": {
  "kernelspec": {
   "display_name": "Python 3",
   "language": "python",
   "name": "python3"
  },
  "language_info": {
   "codemirror_mode": {
    "name": "ipython",
    "version": 3
   },
   "file_extension": ".py",
   "mimetype": "text/x-python",
   "name": "python",
   "nbconvert_exporter": "python",
   "pygments_lexer": "ipython3",
   "version": "3.7.0"
  }
 },
 "nbformat": 4,
 "nbformat_minor": 2
}
